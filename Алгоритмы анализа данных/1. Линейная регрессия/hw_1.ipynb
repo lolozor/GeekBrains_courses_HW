{
 "cells": [
  {
   "cell_type": "markdown",
   "metadata": {},
   "source": [
    "## Алгоритмы анализа данных\n",
    "## Урок 1. Линейная регрессия\n",
    "## Домашка\n",
    "## Потемкин Сергей"
   ]
  },
  {
   "cell_type": "code",
   "execution_count": 88,
   "metadata": {},
   "outputs": [],
   "source": [
    "import numpy as np\n",
    "import matplotlib.pyplot as plt\n",
    "\n",
    "X = np.array([[1, 1, 1, 1, 1, 1, 1, 1, 1, 1],\n",
    "              [1, 1, 2, 1, 3, 0, 5, 10, 1, 2]])\n",
    "\n",
    "y = [45, 55, 50, 59, 65, 35, 75, 80, 50, 60]"
   ]
  },
  {
   "cell_type": "code",
   "execution_count": 89,
   "metadata": {},
   "outputs": [
    {
     "data": {
      "text/plain": [
       "<matplotlib.collections.PathCollection at 0xb20b108>"
      ]
     },
     "execution_count": 89,
     "metadata": {},
     "output_type": "execute_result"
    },
    {
     "data": {
      "image/png": "[encoded data removed]",
      "text/plain": [
       "<Figure size 432x288 with 1 Axes>"
      ]
     },
     "metadata": {
      "needs_background": "light"
     },
     "output_type": "display_data"
    }
   ],
   "source": [
    "plt.scatter(X[1,:], y)"
   ]
  },
  {
   "cell_type": "code",
   "execution_count": 90,
   "metadata": {},
   "outputs": [],
   "source": [
    "def calc_mse(y, y_pred):\n",
    "  err = np.mean((y - y_pred)**2)\n",
    "  return err"
   ]
  },
  {
   "cell_type": "markdown",
   "metadata": {},
   "source": [
    "## 1. Подберите скорость обучения (alpha) и количество итераций:"
   ]
  },
  {
   "cell_type": "code",
   "execution_count": 91,
   "metadata": {},
   "outputs": [
    {
     "data": {
      "text/plain": [
       "array([[ 1,  1,  1,  1,  1,  1,  1,  1,  1,  1],\n",
       "       [ 1,  1,  2,  1,  3,  0,  5, 10,  1,  2]])"
      ]
     },
     "execution_count": 91,
     "metadata": {},
     "output_type": "execute_result"
    }
   ],
   "source": [
    "X"
   ]
  },
  {
   "cell_type": "markdown",
   "metadata": {},
   "source": [
    "### 1.1. код вычисления коэффициентов поместим в функцию, чтобы потом искать оптимальное количество итераций\n",
    "### 1.2. при этом цикл for заменим на цикл while. условием выхода из цикла будет если разница предыдущей и текущей ошибки меньше 1е-8. Таким образом найдем КОЛИЧЕСТВО ИТЕРАЦИЙ"
   ]
  },
  {
   "cell_type": "code",
   "execution_count": 92,
   "metadata": {},
   "outputs": [],
   "source": [
    "n = X.shape[1]\n",
    "# alpha = 1e-4\n",
    "# W = np.array([1, 0.5])\n",
    "# W, alpha\n",
    "\n",
    "def regr(alpha):\n",
    "    W = np.array([1, 0.5])\n",
    "    i, err_old, err_min = 0, np.inf, 1e-8\n",
    "    while True:\n",
    "        i += 1\n",
    "        y_pred = np.dot(W, X)\n",
    "        err = calc_mse(y, y_pred)\n",
    "        for ii in range(W.shape[0]):\n",
    "            W[ii] -= alpha * (1/n * 2 * np.sum(X[ii] * (y_pred - y)))\n",
    "\n",
    "    #   print(i, W, err, err_alpha)\n",
    "        err_alpha = err_old - err\n",
    "\n",
    "        if (err_alpha < err_min):\n",
    "            \n",
    "            break\n",
    "\n",
    "        err_old = err\n",
    "    return i, W, err, err_alpha\n",
    "                "
   ]
  },
  {
   "cell_type": "markdown",
   "metadata": {},
   "source": [
    "### 1.3 Скорость обучения будем искать подбором. Для начала попробуем шаг 0,001"
   ]
  },
  {
   "cell_type": "code",
   "execution_count": 93,
   "metadata": {},
   "outputs": [
    {
     "name": "stdout",
     "output_type": "stream",
     "text": [
      "0.01 (1031, array([47.23122165,  3.91088439]), 45.937500465870315, 9.841286896516976e-09)\n",
      "0.011 (941, array([47.23126529,  3.91087633]), 45.937500423666116, 9.860279703843844e-09)\n",
      "0.011999999999999999 (866, array([47.23130691,  3.91086865]), 45.93750038524528, 9.7966719181386e-09)\n",
      "0.012999999999999998 (802, array([47.23134074,  3.9108624 ]), 45.93750035544381, 9.807550327423087e-09)\n",
      "0.013999999999999997 (747, array([47.23137162,  3.9108567 ]), 45.9375003292953, 9.80052305976642e-09)\n",
      "0.014999999999999996 (699, array([47.23139745,  3.91085193]), 45.937500308258244, 9.845358306392882e-09)\n",
      "0.015999999999999993 (657, array([47.23142244,  3.91084732]), 45.937500288543866, 9.845756210324907e-09)\n",
      "0.016999999999999994 (620, array([47.23144735,  3.91084272]), 45.93750026950436, 9.78636194304272e-09)\n",
      "0.017999999999999995 (587, array([47.23147002,  3.91083853]), 45.937500252760955, 9.733774675169116e-09)\n",
      "0.018999999999999993 (557, array([47.23148578,  3.91083562]), 45.93750024156419, 9.835090963861148e-09)\n",
      "0.01999999999999999 (530, array([47.2315012 ,  3.91083277]), 45.93750023085143, 9.909420839449012e-09)\n",
      "0.02099999999999999 (506, array([47.23152217,  3.9108289 ]), 45.937500216466916, 9.772165299182234e-09)\n",
      "0.021999999999999992 (484, array([47.23153995,  3.91082562]), 45.93750020467916, 9.695519054275792e-09)\n",
      "0.02299999999999999 (464, array([47.23155847,  3.9108222 ]), 45.93750019270806, 9.5587182613599e-09)\n",
      "0.023999999999999987 (445, array([47.23156682,  3.91082066]), 45.937500187642016, 9.72769242935101e-09)\n",
      "0.024999999999999988 (428, array([47.23158219,  3.91081782]), 45.9375001781415, 9.63545687682199e-09)\n",
      "0.02599999999999999 (412, array([47.23159254,  3.91081591]), 45.937500171988276, 9.690324986877386e-09)\n",
      "0.02699999999999999 (397, array([47.23159986,  3.91081455]), 45.93750016780111, 9.833854619500926e-09)\n",
      "0.027999999999999983 (384, array([47.2316216 ,  3.91081054]), 45.93750015496986, 9.433485104182182e-09)\n",
      "0.028999999999999984 (371, array([47.23162856,  3.91080926]), 45.937500151183336, 9.547072465920792e-09)\n",
      "0.029999999999999985 (359, array([47.23163757,  3.91080759]), 45.937500146243686, 9.56905665816521e-09)\n",
      "0.030999999999999986 (348, array([47.23165009,  3.91080528]), 45.93750013938209, 9.439339976324845e-09)\n",
      "0.03199999999999998 (337, array([47.23165101,  3.91080511]), 45.93750013916171, 9.744240969666862e-09)\n",
      "0.03299999999999998 (327, array([47.23165761,  3.91080389]), 45.93750013574406, 9.817881618801039e-09)\n",
      "0.03399999999999998 (318, array([47.23167117,  3.91080139]), 45.93750012853919, 9.59408197331868e-09)\n",
      "0.03499999999999998 (309, array([47.23167555,  3.91080058]), 45.93750012643952, 9.730733552260062e-09)\n",
      "0.035999999999999976 (301, array([47.23168863,  3.91079816]), 45.937500119715864, 9.492005403899384e-09)\n",
      "0.03699999999999998 (293, array([47.23169381,  3.91079721]), 45.93750011725432, 9.570669590175385e-09)\n",
      "0.03799999999999998 (285, array([47.23169134,  3.91079766]), 45.93750011880586, 9.975678949558642e-09)\n",
      "0.03899999999999998 (278, array([47.2316998,  3.9107961]), 45.93750011464252, 9.895614994093194e-09)\n",
      "0.03999999999999997 (272, array([47.23171996,  3.91079238]), 45.937500104676964, 9.282302926294506e-09)\n",
      "0.040999999999999974 (265, array([47.23171583,  3.91079314]), 45.937500106961835, 9.737973982737458e-09)\n",
      "0.041999999999999975 (259, array([47.2317243 ,  3.91079157]), 45.93750010298116, 9.620009677746566e-09)\n",
      "0.042999999999999976 (253, array([47.23172735,  3.91079101]), 45.93750010170785, 9.743310158683016e-09)\n",
      "0.04399999999999998 (248, array([47.23174419,  3.9107879 ]), 45.937500093834124, 9.213231066951266e-09)\n",
      "0.04499999999999997 (242, array([47.2317373 ,  3.91078917]), 45.93750009731949, 9.788699628643371e-09)\n",
      "0.04599999999999997 (237, array([47.23174496,  3.91078776]), 45.93750009388333, 9.668895017966861e-09)\n",
      "0.04699999999999997 (232, array([47.2317483 ,  3.91078714]), 45.93750009251623, 9.75129665903296e-09)\n",
      "0.047999999999999966 (228, array([47.23176715,  3.91078366]), 45.937500084068425, 9.064450523510459e-09)\n",
      "0.04899999999999997 (223, array([47.23176269,  3.91078449]), 45.93750008626559, 9.510841891824384e-09)\n",
      "0.04999999999999997 (219, array([47.23177426,  3.91078235]), 45.93750008127437, 9.15863296313546e-09)\n",
      "0.05099999999999997 (214, array([47.23176223,  3.91078457]), 45.93750008685401, 9.999716610309406e-09)\n",
      "0.05199999999999997 (210, array([47.23176706,  3.91078368]), 45.93750008485149, 9.97731319785089e-09)\n",
      "0.052999999999999964 (207, array([47.23178927,  3.91077958]), 45.93750007528562, 9.037755432927952e-09)\n",
      "0.053999999999999965 (203, array([47.23178812,  3.91077979]), 45.937500075940754, 9.303924741743685e-09)\n",
      "0.054999999999999966 (199, array([47.23178391,  3.91078057]), 45.93750007792556, 9.740105610944738e-09)\n",
      "0.05599999999999996 (196, array([47.23179785,  3.91077799]), 45.93750007214912, 9.19743570193532e-09)\n",
      "0.05699999999999996 (192, array([47.2317881 ,  3.91077979]), 45.937500076453446, 9.936819367339922e-09)\n",
      "0.05799999999999996 (189, array([47.23179711,  3.91077813]), 45.93750007278011, 9.641468068366521e-09)\n",
      "0.05899999999999996 (186, array([47.23180373,  3.91077691]), 45.93750007017701, 9.472806539179146e-09)\n",
      "0.05999999999999996 (183, array([47.23180807,  3.91077611]), 45.93750006854141, 9.424638847121969e-09)\n",
      "0.06099999999999996 (180, array([47.23181023,  3.91077571]), 45.93750006781037, 9.495501274159324e-09)\n",
      "0.06199999999999996 (177, array([47.23181024,  3.91077571]), 45.937500067956854, 9.688314150935184e-09)\n",
      "0.06299999999999996 (175, array([47.23183005,  3.91077217]), 45.937500060246066, 8.742333079680975e-09)\n",
      "0.06399999999999995 (175, array([47.23189224,  3.91079881]), 45.93750006554236, 9.873112105651671e-09)\n",
      "0.06499999999999995 (293, array([47.23215827,  3.91079807]), 45.93750011864513, 9.982016990761622e-09)\n",
      "0.06599999999999995 (1169, array([47.23217606,  3.91089409]), 45.937500513800565, 9.82436176855117e-09)\n",
      "0.06699999999999995 (5, array([18.86204986, 22.38842064]), 3085.8161045863826, -7.491199799432252)\n",
      "0.06799999999999995 (2, array([ 6.7928384 , -1.81680896]), 3247.8221273599925, -74.67212735999237)\n",
      "0.06899999999999995 (2, array([ 6.7408276 , -2.57545144]), 3379.657144039993, -206.5071440399929)\n",
      "0.06999999999999995 (2, array([ 6.68484 , -3.355096]), 3515.2816359999933, -342.13163599999325)\n",
      "0.07099999999999995 (2, array([ 6.6248756 , -4.15574264]), 3654.695603239993, -481.54560323999294)\n",
      "0.07199999999999994 (2, array([ 6.5609344 , -4.97739136]), 3797.8990457599893, -624.7490457599893)\n",
      "0.07299999999999994 (2, array([ 6.4930164 , -5.82004216]), 3944.89196355999, -771.7419635599899)\n",
      "0.07399999999999994 (2, array([ 6.4211216 , -6.68369504]), 4095.6743566399914, -922.5243566399913)\n",
      "0.07499999999999994 (2, array([ 6.34525, -7.56835]), 4250.246224999989, -1077.0962249999889)\n",
      "0.07599999999999994 (2, array([ 6.2654016 , -8.47400704]), 4408.607568639991, -1235.4575686399908)\n",
      "0.07699999999999994 (2, array([ 6.1815764 , -9.40066616]), 4570.758387559991, -1397.6083875599911)\n",
      "0.07799999999999994 (2, array([  6.0937744 , -10.34832736]), 4736.698681759991, -1563.5486817599908)\n",
      "0.07899999999999993 (2, array([  6.0019956 , -11.31699064]), 4906.428451239992, -1733.2784512399917)\n",
      "0.07999999999999993 (2, array([  5.90624 , -12.306656]), 5079.947695999987, -1906.7976959999874)\n",
      "0.08099999999999993 (2, array([  5.8065076 , -13.31732344]), 5257.256416039987, -2084.106416039987)\n",
      "0.08199999999999993 (2, array([  5.7027984 , -14.34899296]), 5438.354611359989, -2265.2046113599886)\n",
      "0.08299999999999993 (2, array([  5.5951124 , -15.40166456]), 5623.242281959987, -2450.092281959987)\n",
      "0.08399999999999994 (2, array([  5.4834496 , -16.47533824]), 5811.919427839989, -2638.769427839989)\n",
      "0.08499999999999994 (2, array([  5.36781 , -17.570014]), 6004.386048999988, -2831.236048999988)\n",
      "0.08599999999999992 (2, array([  5.2481936 , -18.68569184]), 6200.642145439984, -3027.492145439984)\n",
      "0.08699999999999992 (2, array([  5.1246004 , -19.82237176]), 6400.687717159985, -3227.5377171599853)\n",
      "0.08799999999999993 (2, array([  4.9970304 , -20.98005376]), 6604.522764159982, -3431.372764159982)\n",
      "0.08899999999999993 (2, array([  4.8654836 , -22.15873784]), 6812.147286439987, -3638.9972864399865)\n"
     ]
    }
   ],
   "source": [
    "alpha = np.arange(.01, .09, .001)\n",
    "for i in alpha:\n",
    "    print(i, regr(i))"
   ]
  },
  {
   "cell_type": "markdown",
   "metadata": {},
   "source": [
    "### Из полученных результатов берем интервал от 0,62 до 0,65 с шагом 0,0001 "
   ]
  },
  {
   "cell_type": "code",
   "execution_count": 94,
   "metadata": {},
   "outputs": [
    {
     "name": "stdout",
     "output_type": "stream",
     "text": [
      "0.062 (177, array([47.23181024,  3.91077571]), 45.937500067956854, 9.688314150935184e-09)\n",
      "0.0621 (177, array([47.23181672,  3.91077451]), 45.937500065349404, 9.333199102457002e-09)\n",
      "0.062200000000000005 (177, array([47.23182308,  3.91077334]), 45.93750006284173, 8.991015931769653e-09)\n",
      "0.06230000000000001 (176, array([47.23180759,  3.91077619]), 45.93750006909137, 9.902720421450795e-09)\n",
      "0.06240000000000001 (176, array([47.23181409,  3.91077499]), 45.937500066454305, 9.541679446556373e-09)\n",
      "0.06250000000000001 (176, array([47.23182046,  3.91077381]), 45.937500063917625, 9.193684036290506e-09)\n",
      "0.06260000000000002 (176, array([47.23182671,  3.91077266]), 45.93750006147749, 8.858378919285315e-09)\n",
      "0.06270000000000002 (175, array([47.23181122,  3.91077555]), 45.93750006766546, 9.767234132596059e-09)\n",
      "0.06280000000000002 (175, array([47.23181762,  3.91077438]), 45.937500065096195, 9.412921997409285e-09)\n",
      "0.06290000000000003 (175, array([47.23182389,  3.91077325]), 45.93750006262427, 9.071449369457696e-09)\n",
      "0.06300000000000003 (175, array([47.23183005,  3.91077217]), 45.93750006024605, 8.74231886882626e-09)\n",
      "0.06310000000000003 (174, array([47.23181448,  3.91077469]), 45.93750006638348, 9.649887999785278e-09)\n",
      "0.06320000000000003 (174, array([47.23182074,  3.91077334]), 45.93750006387823, 9.302141279476928e-09)\n",
      "0.06330000000000004 (174, array([47.23182686,  3.91077188]), 45.937500061472136, 8.967873554865946e-09)\n",
      "0.06340000000000004 (173, array([47.23181145,  3.91077696]), 45.93750006782023, 9.91271775774294e-09)\n",
      "0.06350000000000004 (173, array([47.23181798,  3.91077689]), 45.93750006535442, 9.572566739279864e-09)\n",
      "0.06360000000000005 (173, array([47.23182455,  3.91077768]), 45.93750006315333, 9.275382240048202e-09)\n",
      "0.06370000000000005 (173, array([47.23183127,  3.91077997]), 45.93750006156543, 9.079606400064222e-09)\n",
      "0.06380000000000005 (173, array([47.23183834,  3.91078486]), 45.93750006166515, 9.156813973731914e-09)\n",
      "0.06390000000000005 (174, array([47.23185748,  3.91074362]), 45.93750005803737, 8.70043947998056e-09)\n",
      "0.06400000000000006 (175, array([47.23189224,  3.91079881]), 45.93750006554236, 9.873112105651671e-09)\n",
      "0.06410000000000006 (179, array([47.23196038,  3.9107991 ]), 45.93750006641232, 9.832191949499247e-09)\n",
      "0.06420000000000006 (186, array([47.2320168 ,  3.91068011]), 45.93750006318072, 8.95302321168856e-09)\n",
      "0.06430000000000007 (194, array([47.23206634,  3.9106651 ]), 45.93750006888807, 9.230205932908575e-09)\n",
      "0.06440000000000007 (203, array([47.232121  ,  3.91078741]), 45.937500079107465, 9.997428662700258e-09)\n",
      "0.06450000000000007 (214, array([47.23211456,  3.9106483 ]), 45.9375000829029, 9.869779660220956e-09)\n",
      "0.06460000000000007 (227, array([47.23214931,  3.91078376]), 45.93750008098727, 9.062688377525774e-09)\n",
      "0.06470000000000008 (240, array([47.23212686,  3.91064125]), 45.93750009303609, 9.755282803780574e-09)\n",
      "0.06480000000000008 (256, array([47.23212834,  3.91064002]), 45.93750009480276, 9.27941812278732e-09)\n",
      "0.06490000000000008 (273, array([47.23215733,  3.91079395]), 45.93750010784864, 9.811543577598059e-09)\n",
      "0.06500000000000009 (293, array([47.23215827,  3.91079807]), 45.93750011864513, 9.982016990761622e-09)\n"
     ]
    }
   ],
   "source": [
    "alpha = np.arange(.062, .065, .0001)\n",
    "\n",
    "for i in alpha:\n",
    "    print(i, regr(i))"
   ]
  },
  {
   "cell_type": "markdown",
   "metadata": {},
   "source": [
    "Получаем, что $alpha$ = 0.0639 за $174$ шага дойдем до минимума с заданной точностью $10^{-8}$."
   ]
  },
  {
   "cell_type": "code",
   "execution_count": null,
   "metadata": {},
   "outputs": [],
   "source": []
  },
  {
   "cell_type": "code",
   "execution_count": null,
   "metadata": {},
   "outputs": [],
   "source": []
  },
  {
   "cell_type": "markdown",
   "metadata": {},
   "source": [
    "## *2. В этом коде мы избавляемся от итераций по весам, но тут есть ошибка, исправьте ее:"
   ]
  },
  {
   "cell_type": "code",
   "execution_count": 95,
   "metadata": {},
   "outputs": [],
   "source": [
    "alpha = 0.0639\n",
    "W = np.array([1, 0.5])"
   ]
  },
  {
   "cell_type": "markdown",
   "metadata": {},
   "source": [
    "### Ошибка в том что если мы убираем цикл, то нужно перемнажать матрицы, а не суммировать произведение"
   ]
  },
  {
   "cell_type": "code",
   "execution_count": 96,
   "metadata": {},
   "outputs": [
    {
     "name": "stdout",
     "output_type": "stream",
     "text": [
      "0 [47.23214286  3.91071429] 3173.15\n",
      "10 [47.23214286  3.91071429] 45.93749999999999\n",
      "20 [47.23214286  3.91071429] 45.93749999999999\n",
      "30 [47.23214286  3.91071429] 45.93749999999999\n",
      "40 [47.23214286  3.91071429] 45.93749999999999\n",
      "50 [47.23214286  3.91071429] 45.93749999999999\n",
      "60 [47.23214286  3.91071429] 45.93749999999999\n",
      "70 [47.23214286  3.91071429] 45.93749999999999\n",
      "80 [47.23214286  3.91071429] 45.93749999999999\n",
      "90 [47.23214286  3.91071429] 45.93749999999999\n",
      "100 [47.23214286  3.91071429] 45.93749999999999\n",
      "110 [47.23214286  3.91071429] 45.93749999999999\n",
      "120 [47.23214286  3.91071429] 45.93749999999999\n",
      "130 [47.23214286  3.91071429] 45.93749999999999\n",
      "140 [47.23214286  3.91071429] 45.93749999999999\n",
      "150 [47.23214286  3.91071429] 45.93749999999999\n",
      "160 [47.23214286  3.91071429] 45.93749999999999\n",
      "170 [47.23214286  3.91071429] 45.93749999999999\n",
      "180 [47.23214286  3.91071429] 45.93749999999999\n",
      "190 [47.23214286  3.91071429] 45.93749999999999\n",
      "200 [47.23214286  3.91071429] 45.93749999999999\n"
     ]
    }
   ],
   "source": [
    "for i in range(201):\n",
    "    y_pred = np.dot(W, X)\n",
    "    err = calc_mse(y, y_pred)\n",
    "\n",
    "    '''for ii in range(W.shape[0]):\n",
    "    W[ii] -= alpha * (1/n * 2 * np.sum(X[ii] * (y_pred - y)))'''\n",
    "    \n",
    "    # ТУТ ОШИБКА !!!\n",
    "#     W -= (alpha * (1/n * 2 * np.sum(X * (y_pred - y))))\n",
    "    W = np.linalg.inv(X @ X.T) @ X @ y\n",
    "    \n",
    "    if i % 10 == 0:\n",
    "        print(i, W, err)"
   ]
  },
  {
   "cell_type": "code",
   "execution_count": null,
   "metadata": {},
   "outputs": [],
   "source": []
  },
  {
   "cell_type": "markdown",
   "metadata": {},
   "source": [
    "## Задание *3: вместо того, чтобы задавать количество итераций, задайте условие остановки алгоритма - когда ошибка за итерацию начинает изменяться ниже определенного порога\n",
    "\n",
    "<span style=\"color:red\">выполнено в задании 1</span>"
   ]
  },
  {
   "cell_type": "code",
   "execution_count": null,
   "metadata": {},
   "outputs": [],
   "source": []
  },
  {
   "cell_type": "code",
   "execution_count": null,
   "metadata": {},
   "outputs": [],
   "source": []
  },
  {
   "cell_type": "markdown",
   "metadata": {},
   "source": [
    "### проверяем при помощи sklearn"
   ]
  },
  {
   "cell_type": "code",
   "execution_count": 99,
   "metadata": {},
   "outputs": [
    {
     "name": "stdout",
     "output_type": "stream",
     "text": [
      "w_1: 47.23214285714286\n",
      "w_0: 3.9107142857142843\n"
     ]
    }
   ],
   "source": [
    "from sklearn.linear_model import LinearRegression\n",
    "slr = LinearRegression()\n",
    "slr.fit(X.T, y)\n",
    "y_pred = slr.predict(X.T)\n",
    "print('w_1: {}'.format(slr.intercept_))\n",
    "print('w_0: {}'.format(slr.coef_[1]))\n"
   ]
  },
  {
   "cell_type": "code",
   "execution_count": null,
   "metadata": {},
   "outputs": [],
   "source": []
  }
 ],
 "metadata": {
  "kernelspec": {
   "display_name": "Python 3",
   "language": "python",
   "name": "python3"
  },
  "language_info": {
   "codemirror_mode": {
    "name": "ipython",
    "version": 3
   },
   "file_extension": ".py",
   "mimetype": "text/x-python",
   "name": "python",
   "nbconvert_exporter": "python",
   "pygments_lexer": "ipython3",
   "version": "3.7.4"
  }
 },
 "nbformat": 4,
 "nbformat_minor": 2
}
