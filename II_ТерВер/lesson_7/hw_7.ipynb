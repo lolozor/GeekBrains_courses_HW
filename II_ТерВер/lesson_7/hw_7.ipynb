{
 "cells": [
  {
   "cell_type": "markdown",
   "metadata": {},
   "source": [
    "Потемкин С.<br>\n",
    "Теория Вероятностей и математическаястатистика<br>\n",
    "Урок 7<br>\n",
    "Домашка<br>"
   ]
  },
  {
   "cell_type": "code",
   "execution_count": 1,
   "metadata": {},
   "outputs": [],
   "source": [
    "from math import factorial\n",
    "import numpy as np\n",
    "import math\n",
    "import matplotlib.pyplot as plt\n",
    "import seaborn as sns\n",
    "\n",
    "plt.style.use('seaborn-whitegrid')"
   ]
  },
  {
   "cell_type": "markdown",
   "metadata": {},
   "source": [
    "## 1.Даны значения величины заработной платы заемщиков банка (zp) и значения их поведенческого кредитного скоринга (ks): zp = [35, 45, 190, 200, 40, 70, 54, 150, 120, 110], ks = [401, 574, 874, 919, 459, 739, 653, 902, 746, 832]. Используя математические операции, посчитать коэффициенты линейной регрессии, приняв за X заработную плату (то есть, zp - признак), а за y - значения скорингового балла (то есть, ks - целевая переменная). Произвести расчет как с использованием intercept, так и без."
   ]
  },
  {
   "cell_type": "code",
   "execution_count": 2,
   "metadata": {},
   "outputs": [
    {
     "data": {
      "image/png": "[encoded data removed]",
      "text/plain": [
       "<Figure size 432x288 with 1 Axes>"
      ]
     },
     "metadata": {
      "needs_background": "light"
     },
     "output_type": "display_data"
    }
   ],
   "source": [
    "zp = np.array([35, 45, 190, 200, 40, 70, 54, 150, 120, 110])\n",
    "ks = np.array([401, 574, 874, 919, 459, 739, 653, 902, 746, 832])\n",
    "\n",
    "plt.scatter(zp,ks)\n",
    "plt.xlabel('zp')\n",
    "plt.ylabel('ks')\n",
    "plt.show()"
   ]
  },
  {
   "cell_type": "code",
   "execution_count": 3,
   "metadata": {},
   "outputs": [
    {
     "data": {
      "text/plain": [
       "2.620538882402765"
      ]
     },
     "execution_count": 3,
     "metadata": {},
     "output_type": "execute_result"
    }
   ],
   "source": [
    "b = (np.mean(zp*ks)-np.mean(zp)*np.mean(ks))/(np.mean(zp**2)-np.mean(zp)**2)\n",
    "b"
   ]
  },
  {
   "cell_type": "code",
   "execution_count": 4,
   "metadata": {},
   "outputs": [
    {
     "data": {
      "text/plain": [
       "444.1773573243596"
      ]
     },
     "execution_count": 4,
     "metadata": {},
     "output_type": "execute_result"
    }
   ],
   "source": [
    "a = np.mean(ks) - b * np.mean(zp)\n",
    "a"
   ]
  },
  {
   "cell_type": "code",
   "execution_count": 5,
   "metadata": {},
   "outputs": [
    {
     "data": {
      "text/plain": [
       "array([535.89621821, 562.10160703, 942.07974498, 968.2851338 ,\n",
       "       548.99891262, 627.61507909, 585.68645697, 837.25818968,\n",
       "       758.64202321, 732.43663439])"
      ]
     },
     "execution_count": 5,
     "metadata": {},
     "output_type": "execute_result"
    }
   ],
   "source": [
    "ks_heat = a + b * zp\n",
    "ks_heat"
   ]
  },
  {
   "cell_type": "code",
   "execution_count": 6,
   "metadata": {},
   "outputs": [
    {
     "data": {
      "image/png": "[encoded data removed]",
      "text/plain": [
       "<Figure size 432x288 with 1 Axes>"
      ]
     },
     "metadata": {
      "needs_background": "light"
     },
     "output_type": "display_data"
    }
   ],
   "source": [
    "plt.scatter(zp,ks)\n",
    "plt.plot(zp, ks_heat, color='r')\n",
    "\n",
    "plt.xlabel('zp')\n",
    "plt.ylabel('ks')\n",
    "plt.show()"
   ]
  },
  {
   "cell_type": "code",
   "execution_count": 7,
   "metadata": {},
   "outputs": [
    {
     "data": {
      "text/plain": [
       "6470.414201176658"
      ]
     },
     "execution_count": 7,
     "metadata": {},
     "output_type": "execute_result"
    }
   ],
   "source": [
    "mse = np.sum((ks - ks_heat) ** 2 )/10\n",
    "mse"
   ]
  },
  {
   "cell_type": "markdown",
   "metadata": {},
   "source": [
    "### Ниже вариант БЕЗ интерсепта"
   ]
  },
  {
   "cell_type": "code",
   "execution_count": 8,
   "metadata": {},
   "outputs": [
    {
     "data": {
      "image/png": "[encoded data removed]",
      "text/plain": [
       "<Figure size 432x288 with 1 Axes>"
      ]
     },
     "metadata": {
      "needs_background": "light"
     },
     "output_type": "display_data"
    },
    {
     "name": "stdout",
     "output_type": "stream",
     "text": [
      "203763.93896082853\n"
     ]
    }
   ],
   "source": [
    "ks_heat = b * zp\n",
    "\n",
    "plt.scatter(zp,ks)\n",
    "plt.plot(zp, ks_heat, color='r')\n",
    "plt.xlabel('zp')\n",
    "plt.ylabel('ks')\n",
    "plt.show()\n",
    "\n",
    "mse1 = np.sum((ks - ks_heat) ** 2 )/10\n",
    "print(mse1)"
   ]
  },
  {
   "cell_type": "markdown",
   "metadata": {},
   "source": [
    "### С интерсептом через матрицы:"
   ]
  },
  {
   "cell_type": "code",
   "execution_count": 9,
   "metadata": {},
   "outputs": [
    {
     "data": {
      "text/plain": [
       "array([[  1.,  35.],\n",
       "       [  1.,  45.],\n",
       "       [  1., 190.],\n",
       "       [  1., 200.],\n",
       "       [  1.,  40.],\n",
       "       [  1.,  70.],\n",
       "       [  1.,  54.],\n",
       "       [  1., 150.],\n",
       "       [  1., 120.],\n",
       "       [  1., 110.]])"
      ]
     },
     "execution_count": 9,
     "metadata": {},
     "output_type": "execute_result"
    }
   ],
   "source": [
    "X = zp.reshape((10,1))\n",
    "# X\n",
    "y = ks.reshape((10,1))\n",
    "# y\n",
    "X = np.hstack([np.ones((10,1)),X])\n",
    "X"
   ]
  },
  {
   "cell_type": "code",
   "execution_count": 10,
   "metadata": {},
   "outputs": [
    {
     "data": {
      "text/plain": [
       "array([[444.17735732],\n",
       "       [  2.62053888]])"
      ]
     },
     "execution_count": 10,
     "metadata": {},
     "output_type": "execute_result"
    }
   ],
   "source": [
    "B = np.dot(np.linalg.inv(np.dot(X.T, X)),X.T@y)\n",
    "B"
   ]
  },
  {
   "cell_type": "code",
   "execution_count": null,
   "metadata": {},
   "outputs": [],
   "source": []
  },
  {
   "cell_type": "markdown",
   "metadata": {},
   "source": [
    "## 2.Посчитать коэффициент линейной регрессии при заработной плате (zp), используя градиентный спуск (без intercept)."
   ]
  },
  {
   "cell_type": "code",
   "execution_count": 11,
   "metadata": {},
   "outputs": [],
   "source": [
    "def mse_(B1, y=ks, X=zp, n=10):\n",
    "    return np.sum((B1*X - y)**2)/n"
   ]
  },
  {
   "cell_type": "code",
   "execution_count": 12,
   "metadata": {},
   "outputs": [
    {
     "name": "stdout",
     "output_type": "stream",
     "text": [
      "Iteration: 0, B1=0.25952808, mse=493237.7212546963\n",
      "Iteration: 100, B1=5.54537842245223, mse=58151.31823171113\n",
      "Iteration: 200, B1=5.868748638669329, mse=56522.97550129376\n",
      "Iteration: 300, B1=5.888531320728348, mse=56516.88130936019\n",
      "Iteration: 400, B1=5.8897415574471985, mse=56516.85850140053\n",
      "Iteration: 500, B1=5.889815595583751, mse=56516.858416040064\n",
      "Iteration: 600, B1=5.889820124983314, mse=56516.85841572062\n",
      "Iteration: 700, B1=5.889820402076462, mse=56516.85841571941\n",
      "Iteration: 800, B1=5.88982041902807, mse=56516.8584157194\n",
      "Iteration: 900, B1=5.889820420065112, mse=56516.85841571941\n",
      "Iteration: 1000, B1=5.8898204201285544, mse=56516.85841571941\n"
     ]
    }
   ],
   "source": [
    "alpha = 1e-6\n",
    "B1 = 0.1\n",
    "n = 10\n",
    "for i in range(1001):\n",
    "    B1 -= alpha*(2/n) * np.sum((B1 * zp-ks) * zp)\n",
    "    if i%100 == 0:\n",
    "        print(f'Iteration: {i}, B1={B1}, mse={mse_(B1)}')"
   ]
  },
  {
   "cell_type": "code",
   "execution_count": 13,
   "metadata": {},
   "outputs": [
    {
     "data": {
      "image/png": "[encoded data removed]",
      "text/plain": [
       "<Figure size 432x288 with 1 Axes>"
      ]
     },
     "metadata": {
      "needs_background": "light"
     },
     "output_type": "display_data"
    }
   ],
   "source": [
    "ks_1 = B1 * zp\n",
    "ks_1\n",
    "\n",
    "plt.scatter(zp, ks)\n",
    "plt.plot(zp, ks_1, color='r')\n",
    "plt.show()"
   ]
  },
  {
   "cell_type": "code",
   "execution_count": null,
   "metadata": {},
   "outputs": [],
   "source": []
  },
  {
   "cell_type": "markdown",
   "metadata": {},
   "source": [
    "## 3. В каких случаях для вычисления доверительных интервалов и проверки статистических гипотез используется таблица значений функции Лапласа, а в каких - таблица критических точек распределения Стьюдента?"
   ]
  },
  {
   "cell_type": "markdown",
   "metadata": {},
   "source": [
    "Таблица значений функции Лапласа: случайная величина распределена нормально + известна дисперсия генеральной совокупности.\n",
    "<br><br>\n",
    "Таблица критических точек распределения Стьюдента: НЕ ИЗВЕСТНА дисперсия генеральной совокупности"
   ]
  },
  {
   "cell_type": "code",
   "execution_count": null,
   "metadata": {},
   "outputs": [],
   "source": []
  },
  {
   "cell_type": "markdown",
   "metadata": {},
   "source": [
    "## *4. Произвести вычисления как в пункте 2, но с вычислением intercept. Учесть, что изменение коэффициентов должно производиться на каждом шаге одновременно (то есть изменение одного коэффициента не должно влиять на изменение другого во время одной итерации)."
   ]
  },
  {
   "cell_type": "code",
   "execution_count": 14,
   "metadata": {},
   "outputs": [],
   "source": [
    "def mse_1(a, b, y=ks, X=zp, n=10):\n",
    "    return np.sum((a+b*X - y) ** 2) / n"
   ]
  },
  {
   "cell_type": "code",
   "execution_count": 15,
   "metadata": {},
   "outputs": [
    {
     "name": "stdout",
     "output_type": "stream",
     "text": [
      "Iteration: 0, a=100.0011184, b=0.62822657318848, mse=318672.5607131538\n",
      "Iteration: 1000000, a=236.962991074538, b=4.1457274590440525, mse=17362.22575838559\n",
      "Iteration: 2000000, a=319.41003013308864, b=3.538881107481748, mse=10419.186925454842\n",
      "Iteration: 3000000, a=369.0528077278013, b=3.1734885014067578, mse=7902.0223359762285\n",
      "Iteration: 4000000, a=398.9435763407127, b=2.953479340553125, mse=6989.436691132287\n",
      "Iteration: 5000000, a=416.9413212606913, b=2.821008047881454, mse=6658.583252841083\n",
      "Iteration: 6000000, a=427.77807244634556, b=2.741244808414084, mse=6538.633965617361\n",
      "Iteration: 7000000, a=434.30306637095964, b=2.693217992626239, mse=6495.146941333282\n",
      "Iteration: 8000000, a=438.231877228258, b=2.66430022235875, mse=6479.380934507857\n",
      "Iteration: 9000000, a=440.59748169176567, b=2.64688833644615, mse=6473.665046255852\n",
      "Iteration: 10000000, a=442.021852749852, b=2.6364043410262927, mse=6471.592779075487\n"
     ]
    }
   ],
   "source": [
    "alpha = 1e-6\n",
    "a = 100\n",
    "b = 0.5\n",
    "n = 10\n",
    "for i in range(10000001):\n",
    "    a -= alpha*(2/n) * np.sum(a+b*zp - ks)\n",
    "    b -= alpha*(2/n) * np.sum((a+b*zp - ks) * zp)\n",
    "    if i%1000000 == 0:\n",
    "        print(f'Iteration: {i}, a={a}, b={b}, mse={mse_1(a,b)}')\n",
    "        "
   ]
  },
  {
   "cell_type": "code",
   "execution_count": 16,
   "metadata": {},
   "outputs": [
    {
     "data": {
      "image/png": "[encoded data removed]",
      "text/plain": [
       "<Figure size 432x288 with 1 Axes>"
      ]
     },
     "metadata": {
      "needs_background": "light"
     },
     "output_type": "display_data"
    }
   ],
   "source": [
    "ks_2 = a + b * zp\n",
    "ks_2\n",
    "\n",
    "plt.scatter(zp, ks)\n",
    "plt.plot(zp, ks_2, color='r')\n",
    "plt.show()"
   ]
  },
  {
   "cell_type": "code",
   "execution_count": null,
   "metadata": {},
   "outputs": [],
   "source": []
  }
 ],
 "metadata": {
  "kernelspec": {
   "display_name": "Python 3",
   "language": "python",
   "name": "python3"
  },
  "language_info": {
   "codemirror_mode": {
    "name": "ipython",
    "version": 3
   },
   "file_extension": ".py",
   "mimetype": "text/x-python",
   "name": "python",
   "nbconvert_exporter": "python",
   "pygments_lexer": "ipython3",
   "version": "3.7.4"
  }
 },
 "nbformat": 4,
 "nbformat_minor": 2
}
