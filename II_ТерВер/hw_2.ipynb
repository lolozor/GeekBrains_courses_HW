{
 "cells": [
  {
   "cell_type": "code",
   "execution_count": 1,
   "metadata": {},
   "outputs": [],
   "source": [
    "from math import factorial\n",
    "import numpy as np\n",
    "\n",
    "def combinations(n, k):\n",
    "    return int(factorial(n) / (factorial(k) * factorial(n - k)))"
   ]
  },
  {
   "cell_type": "markdown",
   "metadata": {},
   "source": [
    "### 1. Вероятность того, что стрелок попадет в мишень, выстрелив один раз, равна 0.8. Стрелок выстрелил 100 раз. Найдите вероятность того, что стрелок попадет в цель ровно 85 раз."
   ]
  },
  {
   "cell_type": "code",
   "execution_count": 2,
   "metadata": {},
   "outputs": [
    {
     "data": {
      "text/plain": [
       "0.048061793700746556"
      ]
     },
     "execution_count": 2,
     "metadata": {},
     "output_type": "execute_result"
    }
   ],
   "source": [
    "# по формуле Бернулли, где p - вероятность попадания(0,8), а k - вероятность промаха(1-0,8 = 0,2)\n",
    "\n",
    "p = combinations(100, 85) * 0.8**85 * 0.2**15\n",
    "p"
   ]
  },
  {
   "cell_type": "markdown",
   "metadata": {},
   "source": [
    "### 2. Вероятность того, что лампочка перегорит в течение первого дня эксплуатации, равна 0.0004. В жилом комплексе после ремонта в один день включили 5000 новых лампочек. Какова вероятность, что ни одна из них не перегорит в первый день? Какова вероятность, что перегорят ровно две?"
   ]
  },
  {
   "cell_type": "code",
   "execution_count": 3,
   "metadata": {
    "scrolled": true
   },
   "outputs": [
    {
     "name": "stdout",
     "output_type": "stream",
     "text": [
      "Вероятность что ни одна не перегорит:  0.1353352832366127\n",
      "Вероятность что перегорят 2:  0.2706705664732254\n"
     ]
    }
   ],
   "source": [
    "# по формуле Пуассона, где лямбда = количество лампочек * вероятность перегорания\n",
    "\n",
    "n = 5000\n",
    "p_ = 0.0004\n",
    "_lambda = n*p_\n",
    "\n",
    "def puasson(m):\n",
    "    return (_lambda**m/factorial(m)*np.exp(-_lambda))\n",
    "\n",
    "print('Вероятность что ни одна не перегорит: ', puasson(0))\n",
    "print('Вероятность что перегорят 2: ', puasson(2))\n"
   ]
  },
  {
   "cell_type": "markdown",
   "metadata": {},
   "source": [
    "### 3. Монету подбросили 144 раза. Какова вероятность, что орел выпадет ровно 70 раз?"
   ]
  },
  {
   "cell_type": "code",
   "execution_count": 4,
   "metadata": {},
   "outputs": [
    {
     "data": {
      "text/plain": [
       "0.06281178035144776"
      ]
     },
     "execution_count": 4,
     "metadata": {},
     "output_type": "execute_result"
    }
   ],
   "source": [
    "# по формуле Бернулли:\n",
    "\n",
    "p = combinations(144,70) * 0.5**70 * 0.5**(144-70)\n",
    "p"
   ]
  },
  {
   "cell_type": "markdown",
   "metadata": {},
   "source": [
    "### 4. В первом ящике находится 10 мячей, из которых 7 - белые. Во втором ящике - 11 мячей, из которых 9 белых. Из каждого ящика вытаскивают случайным образом по два мяча. Какова вероятность того, что все мячи белые? Какова вероятность того, что ровно два мяча белые? Какова вероятность того, что хотя бы один мяч белый?"
   ]
  },
  {
   "cell_type": "code",
   "execution_count": 5,
   "metadata": {},
   "outputs": [
    {
     "name": "stdout",
     "output_type": "stream",
     "text": [
      "0.3054545454545454\n"
     ]
    }
   ],
   "source": [
    "# Все мячи белые\n",
    "\n",
    "p = 7/10 * 6/9 * 9/11 * 8/10\n",
    "print(p)"
   ]
  },
  {
   "cell_type": "code",
   "execution_count": 53,
   "metadata": {},
   "outputs": [
    {
     "data": {
      "text/plain": [
       "0.20484848484848484"
      ]
     },
     "execution_count": 53,
     "metadata": {},
     "output_type": "execute_result"
    }
   ],
   "source": [
    "# Два мяча белые\n",
    "\n",
    "p1_1 = 7/10 * 6/9 # 2 белых\n",
    "p1_2 = 3/10 * 2/9 # 2 НЕ белых\n",
    "p1_3 = 7/10 * 3/9 # 1 белый + 1 Не белый\n",
    "p1_4 = 3/10 * 7/9 # 1 НЕ белый + 1 белый\n",
    "\n",
    "p2_1 = 9/11 * 8/10 # 2 белых\n",
    "p2_2 = 2/11 * 1/10 # 2 НЕ белых\n",
    "p2_3 = 9/11 * 2/10 # 1 белый + 1 НЕ белый\n",
    "p2_4 = 2/11 * 9/10 # 1 НЕ белый + 1 белый\n",
    "\n",
    "# из 1-ой конзины вытащили 2 белых мача, а из второй 2 НЕ белых\n",
    "p1 = p1_1 * p2_2\n",
    "\n",
    "# из 1-ой конзины вытащили 2 НЕ белых мача, а из второй 2 белых\n",
    "p2 = p1_2 * p2_1\n",
    "\n",
    "# из 1-ой конзины вытащили 1 белый мач, и из второй 1 белй\n",
    "p3 = (p1_3 + p1_4) * (p2_3 + p2_4)\n",
    "\n",
    "p = p1 + p2 + p3\n",
    "\n",
    "p"
   ]
  },
  {
   "cell_type": "code",
   "execution_count": 55,
   "metadata": {},
   "outputs": [
    {
     "data": {
      "text/plain": [
       "0.9987878787878788"
      ]
     },
     "execution_count": 55,
     "metadata": {},
     "output_type": "execute_result"
    }
   ],
   "source": [
    "# Вероятность что хотя бы один мяч белый\n",
    "\n",
    "# Ищем вероятность того, что все мячи НЕ белые\n",
    "p_ = 3/10 * 2/9 * 2/11 * 1/10\n",
    "\n",
    "# Хотя бы один белый - это обратное от все НЕ белые\n",
    "p = 1 - p_\n",
    "p"
   ]
  },
  {
   "cell_type": "code",
   "execution_count": null,
   "metadata": {},
   "outputs": [],
   "source": []
  }
 ],
 "metadata": {
  "kernelspec": {
   "display_name": "Python 3",
   "language": "python",
   "name": "python3"
  },
  "language_info": {
   "codemirror_mode": {
    "name": "ipython",
    "version": 3
   },
   "file_extension": ".py",
   "mimetype": "text/x-python",
   "name": "python",
   "nbconvert_exporter": "python",
   "pygments_lexer": "ipython3",
   "version": "3.7.4"
  }
 },
 "nbformat": 4,
 "nbformat_minor": 2
}
