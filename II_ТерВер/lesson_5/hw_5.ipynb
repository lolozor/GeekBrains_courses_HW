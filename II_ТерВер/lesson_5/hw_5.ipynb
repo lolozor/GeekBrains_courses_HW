{
 "cells": [
  {
   "cell_type": "code",
   "execution_count": 42,
   "metadata": {},
   "outputs": [],
   "source": [
    "from math import factorial\n",
    "import numpy as np\n",
    "import math\n",
    "\n",
    "def combinations(n, k):\n",
    "    return int(factorial(n) / (factorial(k) * factorial(n - k)))"
   ]
  },
  {
   "cell_type": "markdown",
   "metadata": {},
   "source": [
    "## 1. Известно, что генеральная совокупность распределена нормально со средним квадратическим отклонением, равным 16. Найти доверительный интервал для оценки математического ожидания a с надежностью 0.95, если выборочная средняя M = 80, а объем выборки n = 256."
   ]
  },
  {
   "cell_type": "code",
   "execution_count": 43,
   "metadata": {},
   "outputs": [
    {
     "name": "stdout",
     "output_type": "stream",
     "text": [
      "[ 78.04  ;  81.96 ]\n"
     ]
    }
   ],
   "source": [
    "# решаем по аналогии с задачей, разобранной на уроке (только цифры другие подставляем)\n",
    "\n",
    "x_ = 80\n",
    "n = 256\n",
    "g = 16\n",
    "z = 1.96 # как и в примере на уроке\n",
    "\n",
    "a_left = x_ - z * g/math.sqrt(n)\n",
    "a_right = x_ + z * g/math.sqrt(n)\n",
    "\n",
    "print (\"[\", a_left, \" ; \", a_right, \"]\")"
   ]
  },
  {
   "cell_type": "code",
   "execution_count": null,
   "metadata": {},
   "outputs": [],
   "source": []
  },
  {
   "cell_type": "markdown",
   "metadata": {},
   "source": [
    "## 2. В результате 10 независимых измерений некоторой величины X, выполненных с одинаковой точностью, получены опытные данные: 6.9, 6.1, 6.2, 6.8, 7.5, 6.3, 6.4, 6.9, 6.7, 6.1 Предполагая, что результаты измерений подчинены нормальному закону распределения вероятностей, оценить истинное значение величины X при помощи доверительного интервала, покрывающего это значение с доверительной вероятностью 0,95."
   ]
  },
  {
   "cell_type": "code",
   "execution_count": 44,
   "metadata": {},
   "outputs": [
    {
     "name": "stdout",
     "output_type": "stream",
     "text": [
      "[ 6.267538255912426  ;  6.912461744087575 ]\n"
     ]
    }
   ],
   "source": [
    "# используем критерий t поскольку нам неизвестна сигма генеральной совокупности\n",
    "# по таблице ищем t для альфа (1 - 0,95 / 2) = 0,025\n",
    "\n",
    "t = 2.262\n",
    "\n",
    "a = np.array([6.9, 6.1, 6.2, 6.8, 7.5, 6.3, 6.4, 6.9, 6.7, 6.1])\n",
    "\n",
    "x_ = a.mean()\n",
    "n = len(a)\n",
    "g = a.std(ddof=1)\n",
    "\n",
    "a_left = x_ - t * g / math.sqrt(n)\n",
    "a_right = x_ + t * g / math.sqrt(n)\n",
    "\n",
    "print (\"[\", a_left, \" ; \", a_right, \"]\")"
   ]
  },
  {
   "cell_type": "code",
   "execution_count": null,
   "metadata": {},
   "outputs": [],
   "source": []
  },
  {
   "cell_type": "markdown",
   "metadata": {},
   "source": [
    "## 3. Утверждается, что шарики для подшипников, изготовленные автоматическим станком, имеют средний диаметр 17 мм. Используя односторонний критерий с α=0,05, проверить эту гипотезу, если в выборке из n=100 шариков средний диаметр оказался равным 17.5 мм, а дисперсия известна и равна 4 кв.мм."
   ]
  },
  {
   "cell_type": "code",
   "execution_count": 45,
   "metadata": {},
   "outputs": [
    {
     "name": "stdout",
     "output_type": "stream",
     "text": [
      "Zn= 2.5  :  Zt= 1.645\n",
      "Верна гипотеза H1 для критерия значимости 0,05\n"
     ]
    }
   ],
   "source": [
    "# решаем по аналогии с задачей, разобранной на уроке (только цифры другие подставляем)\n",
    "\n",
    "x_ = 17.5 \n",
    "mu = 17\n",
    "g = math.sqrt(4)\n",
    "n = 100\n",
    "\n",
    "Zt = 1.645\n",
    "Zn = (x_ - mu) / (g / math.sqrt(n)) \n",
    "\n",
    "print(\"Zn=\", Zn, ' : ', 'Zt=', Zt)\n",
    "\n",
    "if Zn > Zt:\n",
    "    print('Верна гипотеза H1 для критерия значимости 0,05')\n",
    "else:\n",
    "    print('Верна гипотеза H0')"
   ]
  },
  {
   "cell_type": "markdown",
   "metadata": {},
   "source": [
    "## 4.Продавец утверждает, что средний вес пачки печенья составляет 200 г. Из партии извлечена выборка из 10 пачек. Вес каждой пачки составляет: 202, 203, 199, 197, 195, 201, 200, 204, 194, 190. Известно, что их веса распределены нормально. Верно ли утверждение продавца, если учитывать, что доверительная вероятность равна 99%?"
   ]
  },
  {
   "cell_type": "code",
   "execution_count": 46,
   "metadata": {},
   "outputs": [
    {
     "name": "stdout",
     "output_type": "stream",
     "text": [
      "-1.0651074037450896\n"
     ]
    }
   ],
   "source": [
    "# используем критерий t поскольку нам неизвестна сигма генеральной совокупности\n",
    "# по таблице ищем t для альфа (1 - 0,99 / 2) = 0,005\n",
    "\n",
    "t = 3.250 # т.е. +- 3,250\n",
    "\n",
    "mu = 200\n",
    "\n",
    "a = np.array([202, 203, 199, 197, 195, 201, 200, 204, 194, 190])\n",
    "\n",
    "x_ = a.mean()\n",
    "n = len(a)\n",
    "g = a.std(ddof=1)\n",
    "\n",
    "tn = (x_ - mu) / (g / math.sqrt(n))\n",
    "\n",
    "print(tn)"
   ]
  },
  {
   "cell_type": "markdown",
   "metadata": {},
   "source": [
    "### tn лежит в интервале от -t до +t - значит верна гипотеза H0, т.е. утверждение продавца ВЕРНО с вероятностью 99%"
   ]
  },
  {
   "cell_type": "code",
   "execution_count": null,
   "metadata": {},
   "outputs": [],
   "source": []
  }
 ],
 "metadata": {
  "kernelspec": {
   "display_name": "Python 3",
   "language": "python",
   "name": "python3"
  },
  "language_info": {
   "codemirror_mode": {
    "name": "ipython",
    "version": 3
   },
   "file_extension": ".py",
   "mimetype": "text/x-python",
   "name": "python",
   "nbconvert_exporter": "python",
   "pygments_lexer": "ipython3",
   "version": "3.7.4"
  }
 },
 "nbformat": 4,
 "nbformat_minor": 2
}
