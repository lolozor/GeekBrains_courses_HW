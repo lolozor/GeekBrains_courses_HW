{
 "cells": [
  {
   "cell_type": "markdown",
   "metadata": {},
   "source": [
    "### Создать приложение, которое будет из готового файла с данными «Сбербанка» выводить результат по параметрам:\n",
    "\n",
    "- Тип данных\n",
    "- Интервал дат\n",
    "- Область\n",
    "Визуализировать выводимые данные с помощью графика"
   ]
  },
  {
   "cell_type": "code",
   "execution_count": 39,
   "metadata": {},
   "outputs": [
    {
     "data": {
      "text/html": [
       "<div>\n",
       "<style scoped>\n",
       "    .dataframe tbody tr th:only-of-type {\n",
       "        vertical-align: middle;\n",
       "    }\n",
       "\n",
       "    .dataframe tbody tr th {\n",
       "        vertical-align: top;\n",
       "    }\n",
       "\n",
       "    .dataframe thead th {\n",
       "        text-align: right;\n",
       "    }\n",
       "</style>\n",
       "<table border=\"1\" class=\"dataframe\">\n",
       "  <thead>\n",
       "    <tr style=\"text-align: right;\">\n",
       "      <th></th>\n",
       "      <th>name</th>\n",
       "      <th>region</th>\n",
       "      <th>date</th>\n",
       "      <th>value</th>\n",
       "    </tr>\n",
       "  </thead>\n",
       "  <tbody>\n",
       "    <tr>\n",
       "      <td>0</td>\n",
       "      <td>Количество заявок на потребительские кредиты</td>\n",
       "      <td>Россия</td>\n",
       "      <td>2013-01-15</td>\n",
       "      <td>571147</td>\n",
       "    </tr>\n",
       "    <tr>\n",
       "      <td>1</td>\n",
       "      <td>Количество заявок на потребительские кредиты</td>\n",
       "      <td>Россия</td>\n",
       "      <td>2013-02-15</td>\n",
       "      <td>504508</td>\n",
       "    </tr>\n",
       "    <tr>\n",
       "      <td>2</td>\n",
       "      <td>Количество заявок на потребительские кредиты</td>\n",
       "      <td>Россия</td>\n",
       "      <td>2013-03-15</td>\n",
       "      <td>628803</td>\n",
       "    </tr>\n",
       "    <tr>\n",
       "      <td>3</td>\n",
       "      <td>Количество заявок на потребительские кредиты</td>\n",
       "      <td>Россия</td>\n",
       "      <td>2013-04-15</td>\n",
       "      <td>836054</td>\n",
       "    </tr>\n",
       "    <tr>\n",
       "      <td>4</td>\n",
       "      <td>Количество заявок на потребительские кредиты</td>\n",
       "      <td>Россия</td>\n",
       "      <td>2013-05-15</td>\n",
       "      <td>867235</td>\n",
       "    </tr>\n",
       "  </tbody>\n",
       "</table>\n",
       "</div>"
      ],
      "text/plain": [
       "                                           name  region        date   value\n",
       "0  Количество заявок на потребительские кредиты  Россия  2013-01-15  571147\n",
       "1  Количество заявок на потребительские кредиты  Россия  2013-02-15  504508\n",
       "2  Количество заявок на потребительские кредиты  Россия  2013-03-15  628803\n",
       "3  Количество заявок на потребительские кредиты  Россия  2013-04-15  836054\n",
       "4  Количество заявок на потребительские кредиты  Россия  2013-05-15  867235"
      ]
     },
     "execution_count": 39,
     "metadata": {},
     "output_type": "execute_result"
    }
   ],
   "source": [
    "import pandas as pd\n",
    "import matplotlib.pyplot as plt\n",
    "from pylab import rcParams\n",
    "%matplotlib inline\n",
    "import datetime\n",
    "\n",
    "df = pd.read_csv('opendata.csv', encoding='Windows-1251')\n",
    "\n",
    "df.head()"
   ]
  },
  {
   "cell_type": "code",
   "execution_count": 40,
   "metadata": {},
   "outputs": [
    {
     "name": "stdout",
     "output_type": "stream",
     "text": [
      "<class 'pandas.core.frame.DataFrame'>\n",
      "RangeIndex: 74842 entries, 0 to 74841\n",
      "Data columns (total 4 columns):\n",
      "name      74842 non-null object\n",
      "region    74842 non-null object\n",
      "date      74842 non-null object\n",
      "value     74842 non-null int64\n",
      "dtypes: int64(1), object(3)\n",
      "memory usage: 2.3+ MB\n"
     ]
    }
   ],
   "source": [
    "df.info()"
   ]
  },
  {
   "cell_type": "code",
   "execution_count": 41,
   "metadata": {},
   "outputs": [
    {
     "data": {
      "text/plain": [
       "Index(['name', 'region', 'date', 'value'], dtype='object')"
      ]
     },
     "execution_count": 41,
     "metadata": {},
     "output_type": "execute_result"
    }
   ],
   "source": [
    "df.columns"
   ]
  },
  {
   "cell_type": "code",
   "execution_count": 48,
   "metadata": {},
   "outputs": [
    {
     "name": "stdout",
     "output_type": "stream",
     "text": [
      "Количество заявок на потребительские кредиты\n",
      "Средняя сумма заявки на потребительский кредит\n",
      "Количество заявок на ипотечные кредиты\n",
      "Средняя сумма заявки на ипотечный кредит\n",
      "Количество новых депозитов\n",
      "Средняя сумма нового депозита\n",
      "Средняя зарплата\n",
      "Средняя пенсия\n",
      "В среднем руб. на текущем счете на человека\n",
      "В среднем депозитов в руб. на человека\n",
      "Средние расходы по картам\n",
      "Средний чек в формате Фастфуд\n",
      "Средний чек в формате Ресторан\n",
      "Средние траты в ресторане фастфуд\n",
      "Средние траты в ресторане\n"
     ]
    }
   ],
   "source": [
    "param = df['name'].unique()\n",
    "for pr in param:\n",
    "    print(pr)"
   ]
  },
  {
   "cell_type": "code",
   "execution_count": 52,
   "metadata": {},
   "outputs": [
    {
     "name": "stdout",
     "output_type": "stream",
     "text": [
      "Регионы:\n",
      "\n",
      "Россия\n",
      "Алтайский край\n",
      "Амурская область\n",
      "Архангельская область\n",
      "Астраханская область\n",
      "Белгородская область\n",
      "Брянская область\n",
      "Владимирская область\n",
      "Волгоградская область\n",
      "Вологодская область\n",
      "Воронежская область\n",
      "Еврейская автономная область\n",
      "Забайкальский край\n",
      "Ивановская область\n",
      "Иркутская область\n",
      "Кабардино-Балкарская Республика\n",
      "Калининградская область\n",
      "Калужская область\n",
      "Камчатский край\n",
      "Кемеровская область\n",
      "Кировская область\n",
      "Костромская область\n",
      "Краснодарский край\n",
      "Красноярский край\n",
      "Курганская область\n",
      "Курская область\n",
      "Ленинградская область\n",
      "Липецкая область\n",
      "Магаданская область\n",
      "Москва\n",
      "Московская область\n",
      "Мурманская область\n",
      "Ненецкий автономный округ\n",
      "Нижегородская область\n",
      "Новгородская область\n",
      "Новосибирская область\n",
      "Омская область\n",
      "Оренбургская область\n",
      "Орловская область\n",
      "Пензенская область\n",
      "Пермский край\n",
      "Приморский край\n",
      "Псковская область\n",
      "Республика Адыгея\n",
      "Республика Алтай (Горный Алтай)\n",
      "Республика Башкортостан\n",
      "Республика Бурятия\n",
      "Республика Дагестан\n",
      "Республика Ингушетия\n",
      "Республика Калмыкия\n",
      "Республика Карачаево-Черкессия\n",
      "Республика Карелия\n",
      "Республика Коми\n",
      "Республика Марий Эл\n",
      "Республика Мордовия\n",
      "Республика Саха (Якутия)\n",
      "Республика Северная Осетия-Алания\n",
      "Республика Татарстан\n",
      "Республика Тыва\n",
      "Республика Хакасия\n",
      "Ростовская область\n",
      "Рязанская область\n",
      "Самарская область\n",
      "Санкт-Петербург\n",
      "Саратовская область\n",
      "Сахалинская область\n",
      "Свердловская область\n",
      "Смоленская область\n",
      "Ставропольский край\n",
      "Тамбовская область\n",
      "Тверская область\n",
      "Томская область\n",
      "Тульская область\n",
      "Тюменская область\n",
      "Удмуртская Республика\n",
      "Ульяновская область\n",
      "Хабаровский край\n",
      "Ханты-Мансийский автономный округ — Югра\n",
      "Челябинская область\n",
      "Чеченская Республика\n",
      "Чувашская Республика\n",
      "Чукотский автономный округ\n",
      "Ямало-Ненецкий автономный округ\n",
      "Ярославская область\n"
     ]
    }
   ],
   "source": [
    "param__ = 'Количество заявок на потребительские кредиты'\n",
    "\n",
    "data_regions = df.loc[df['name'] == param__, :]\n",
    "region = data_regions['region'].unique()\n",
    "print('Регионы:\\n')\n",
    "for rg in region:\n",
    "    print(rg)"
   ]
  },
  {
   "cell_type": "code",
   "execution_count": 54,
   "metadata": {},
   "outputs": [
    {
     "name": "stdout",
     "output_type": "stream",
     "text": [
      "Период с: 2013-01-15 по: 2019-01-15\n"
     ]
    },
    {
     "data": {
      "text/html": [
       "<div>\n",
       "<style scoped>\n",
       "    .dataframe tbody tr th:only-of-type {\n",
       "        vertical-align: middle;\n",
       "    }\n",
       "\n",
       "    .dataframe tbody tr th {\n",
       "        vertical-align: top;\n",
       "    }\n",
       "\n",
       "    .dataframe thead th {\n",
       "        text-align: right;\n",
       "    }\n",
       "</style>\n",
       "<table border=\"1\" class=\"dataframe\">\n",
       "  <thead>\n",
       "    <tr style=\"text-align: right;\">\n",
       "      <th></th>\n",
       "      <th>name</th>\n",
       "      <th>region</th>\n",
       "      <th>date</th>\n",
       "      <th>value</th>\n",
       "    </tr>\n",
       "  </thead>\n",
       "  <tbody>\n",
       "    <tr>\n",
       "      <td>2117</td>\n",
       "      <td>Количество заявок на потребительские кредиты</td>\n",
       "      <td>Москва</td>\n",
       "      <td>2013-01-15</td>\n",
       "      <td>32846</td>\n",
       "    </tr>\n",
       "    <tr>\n",
       "      <td>2118</td>\n",
       "      <td>Количество заявок на потребительские кредиты</td>\n",
       "      <td>Москва</td>\n",
       "      <td>2013-02-15</td>\n",
       "      <td>28989</td>\n",
       "    </tr>\n",
       "    <tr>\n",
       "      <td>2119</td>\n",
       "      <td>Количество заявок на потребительские кредиты</td>\n",
       "      <td>Москва</td>\n",
       "      <td>2013-03-15</td>\n",
       "      <td>38172</td>\n",
       "    </tr>\n",
       "    <tr>\n",
       "      <td>2120</td>\n",
       "      <td>Количество заявок на потребительские кредиты</td>\n",
       "      <td>Москва</td>\n",
       "      <td>2013-04-15</td>\n",
       "      <td>50339</td>\n",
       "    </tr>\n",
       "    <tr>\n",
       "      <td>2121</td>\n",
       "      <td>Количество заявок на потребительские кредиты</td>\n",
       "      <td>Москва</td>\n",
       "      <td>2013-05-15</td>\n",
       "      <td>53078</td>\n",
       "    </tr>\n",
       "    <tr>\n",
       "      <td>...</td>\n",
       "      <td>...</td>\n",
       "      <td>...</td>\n",
       "      <td>...</td>\n",
       "      <td>...</td>\n",
       "    </tr>\n",
       "    <tr>\n",
       "      <td>2185</td>\n",
       "      <td>Количество заявок на потребительские кредиты</td>\n",
       "      <td>Москва</td>\n",
       "      <td>2018-09-15</td>\n",
       "      <td>76760</td>\n",
       "    </tr>\n",
       "    <tr>\n",
       "      <td>2186</td>\n",
       "      <td>Количество заявок на потребительские кредиты</td>\n",
       "      <td>Москва</td>\n",
       "      <td>2018-10-15</td>\n",
       "      <td>72570</td>\n",
       "    </tr>\n",
       "    <tr>\n",
       "      <td>2187</td>\n",
       "      <td>Количество заявок на потребительские кредиты</td>\n",
       "      <td>Москва</td>\n",
       "      <td>2018-11-15</td>\n",
       "      <td>45724</td>\n",
       "    </tr>\n",
       "    <tr>\n",
       "      <td>2188</td>\n",
       "      <td>Количество заявок на потребительские кредиты</td>\n",
       "      <td>Москва</td>\n",
       "      <td>2018-12-15</td>\n",
       "      <td>90241</td>\n",
       "    </tr>\n",
       "    <tr>\n",
       "      <td>2189</td>\n",
       "      <td>Количество заявок на потребительские кредиты</td>\n",
       "      <td>Москва</td>\n",
       "      <td>2019-01-15</td>\n",
       "      <td>62698</td>\n",
       "    </tr>\n",
       "  </tbody>\n",
       "</table>\n",
       "<p>73 rows × 4 columns</p>\n",
       "</div>"
      ],
      "text/plain": [
       "                                              name  region        date  value\n",
       "2117  Количество заявок на потребительские кредиты  Москва  2013-01-15  32846\n",
       "2118  Количество заявок на потребительские кредиты  Москва  2013-02-15  28989\n",
       "2119  Количество заявок на потребительские кредиты  Москва  2013-03-15  38172\n",
       "2120  Количество заявок на потребительские кредиты  Москва  2013-04-15  50339\n",
       "2121  Количество заявок на потребительские кредиты  Москва  2013-05-15  53078\n",
       "...                                            ...     ...         ...    ...\n",
       "2185  Количество заявок на потребительские кредиты  Москва  2018-09-15  76760\n",
       "2186  Количество заявок на потребительские кредиты  Москва  2018-10-15  72570\n",
       "2187  Количество заявок на потребительские кредиты  Москва  2018-11-15  45724\n",
       "2188  Количество заявок на потребительские кредиты  Москва  2018-12-15  90241\n",
       "2189  Количество заявок на потребительские кредиты  Москва  2019-01-15  62698\n",
       "\n",
       "[73 rows x 4 columns]"
      ]
     },
     "execution_count": 54,
     "metadata": {},
     "output_type": "execute_result"
    }
   ],
   "source": [
    "region = 'Москва'\n",
    "data_sort = data_regions.loc[data_regions['region'] == region]\n",
    "# data_sort.head()\n",
    "\n",
    "print(f\"Период с: {data_sort['date'].min()} по: {data_sort['date'].max()}\")\n",
    "\n",
    "date_min = '2013-01-15'\n",
    "date_max = '2019-01-15'\n",
    "      \n",
    "result = data_sort.loc[(data_sort['date'] >= date_min) & (data_sort['date'] <= date_max), :]\n",
    "result"
   ]
  },
  {
   "cell_type": "code",
   "execution_count": 55,
   "metadata": {},
   "outputs": [
    {
     "data": {
      "image/png": "[encoded data removed]",
      "text/plain": [
       "<Figure size 1008x648 with 1 Axes>"
      ]
     },
     "metadata": {
      "needs_background": "light"
     },
     "output_type": "display_data"
    }
   ],
   "source": [
    "rcParams['figure.figsize'] = 14, 9\n",
    "\n",
    "plt.title(result.iloc[1]['name'],fontsize=17)\n",
    "\n",
    "plt.plot(result['date'], result['value'], label=param__)\n",
    "plt.xlabel(\"Дата\")\n",
    "plt.ylabel(param__)\n",
    "plt.xticks(rotation='vertical')\n",
    "\n",
    "plt.show()"
   ]
  },
  {
   "cell_type": "code",
   "execution_count": null,
   "metadata": {},
   "outputs": [],
   "source": []
  }
 ],
 "metadata": {
  "kernelspec": {
   "display_name": "Python 3",
   "language": "python",
   "name": "python3"
  },
  "language_info": {
   "codemirror_mode": {
    "name": "ipython",
    "version": 3
   },
   "file_extension": ".py",
   "mimetype": "text/x-python",
   "name": "python",
   "nbconvert_exporter": "python",
   "pygments_lexer": "ipython3",
   "version": "3.7.4"
  }
 },
 "nbformat": 4,
 "nbformat_minor": 2
}
