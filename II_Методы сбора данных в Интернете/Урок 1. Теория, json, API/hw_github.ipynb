{
 "cells": [
  {
   "cell_type": "markdown",
   "metadata": {},
   "source": [
    "# 1. Посмотреть документацию к API GitHub, разобраться как вывести список репозиториев для конкретного пользователя, сохранить JSON-вывод в файле *.json."
   ]
  },
  {
   "cell_type": "code",
   "execution_count": 9,
   "metadata": {},
   "outputs": [],
   "source": [
    "import requests\n",
    "from getpass import getpass\n",
    "import json"
   ]
  },
  {
   "cell_type": "code",
   "execution_count": 10,
   "metadata": {},
   "outputs": [
    {
     "name": "stdout",
     "output_type": "stream",
     "text": [
      "lolozor\n"
     ]
    }
   ],
   "source": [
    "login = input()"
   ]
  },
  {
   "cell_type": "code",
   "execution_count": 11,
   "metadata": {},
   "outputs": [
    {
     "name": "stdout",
     "output_type": "stream",
     "text": [
      "https://github.com/lolozor/geekbrains_courses\n",
      "https://github.com/lolozor/pandas_exercises_rus\n",
      "https://github.com/lolozor/PythonForDS1\n"
     ]
    }
   ],
   "source": [
    "repos = requests.get('https://api.github.com/users/'+login+'/repos')\n",
    "data = json.loads(repos.text)\n",
    "\n",
    "li = []        \n",
    "for repo in data:\n",
    "    if not repo['private']:\n",
    "        print(repo['html_url'])\n",
    "        li.append(repo['html_url'])\n",
    "        \n",
    "with open('data.json', 'w') as outfile:\n",
    "    json.dump(li, outfile)\n",
    "        "
   ]
  },
  {
   "cell_type": "code",
   "execution_count": 12,
   "metadata": {},
   "outputs": [
    {
     "data": {
      "text/plain": [
       "['https://github.com/lolozor/geekbrains_courses',\n",
       " 'https://github.com/lolozor/pandas_exercises_rus',\n",
       " 'https://github.com/lolozor/PythonForDS1']"
      ]
     },
     "execution_count": 12,
     "metadata": {},
     "output_type": "execute_result"
    }
   ],
   "source": [
    "with open('data.json') as fh: #открываем файл на чтение\n",
    "    data = json.load(fh) #загружаем из файла данные в словарь data\n",
    "    \n",
    "data"
   ]
  },
  {
   "cell_type": "code",
   "execution_count": null,
   "metadata": {},
   "outputs": [],
   "source": []
  }
 ],
 "metadata": {
  "kernelspec": {
   "display_name": "Python 3",
   "language": "python",
   "name": "python3"
  },
  "language_info": {
   "codemirror_mode": {
    "name": "ipython",
    "version": 3
   },
   "file_extension": ".py",
   "mimetype": "text/x-python",
   "name": "python",
   "nbconvert_exporter": "python",
   "pygments_lexer": "ipython3",
   "version": "3.7.4"
  }
 },
 "nbformat": 4,
 "nbformat_minor": 2
}
