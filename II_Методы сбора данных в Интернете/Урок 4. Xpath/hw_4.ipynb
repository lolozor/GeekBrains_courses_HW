{
 "cells": [
  {
   "cell_type": "markdown",
   "metadata": {},
   "source": [
    "# Домашнее задание\n",
    "\n",
    "### Написать приложение, которое собирает основные новости с сайтов mail.ru, lenta.ru, yandex-новости.\n",
    "\n",
    "### Для парсинга использовать xpath. Структура данных должна содержать:\n",
    "- название источника,\n",
    "- наименование новости,\n",
    "- ссылку на новость,\n",
    "- дата публикации\n"
   ]
  },
  {
   "cell_type": "code",
   "execution_count": 40,
   "metadata": {},
   "outputs": [
    {
     "name": "stdout",
     "output_type": "stream",
     "text": [
      "https://news.mail.ru/\n",
      "https://lenta.ru/\n",
      "https://yandex.ru/\n"
     ]
    }
   ],
   "source": [
    "from pprint import pprint\n",
    "from lxml import html\n",
    "import requests\n",
    "\n",
    "header = {'User-Agent':'Mozilla/5.0 (Windows NT 6.1; WOW64) AppleWebKit/537.36 (KHTML, like Gecko) Chrome/79.0.3945.136 YaBrowser/20.2.1.248 Yowser/2.5 Safari/537.36'}\n",
    "\n",
    "main_link = 'https://news.mail.ru/'\n",
    "m_response = requests.get(main_link)\n",
    "\n",
    "lenta_link = 'https://lenta.ru/'\n",
    "l_response = requests.get(lenta_link)\n",
    "\n",
    "yandex_link = 'https://yandex.ru/'\n",
    "y_response = requests.get(yandex_link)\n",
    "\n",
    "print(m_response.url)\n",
    "print(l_response.url)\n",
    "print(y_response.url)"
   ]
  },
  {
   "cell_type": "markdown",
   "metadata": {},
   "source": [
    "### lenta.ru"
   ]
  },
  {
   "cell_type": "code",
   "execution_count": 41,
   "metadata": {},
   "outputs": [
    {
     "name": "stdout",
     "output_type": "stream",
     "text": [
      "lenta.ru ['Россияне стали меньше доверять банкам'] ['/news/2020/02/13/banks/'] [' 08:50, 13 февраля 2020']\n",
      "lenta.ru ['В Турции сообщили о «нейтрализации» 55\\xa0сирийских военных'] ['/news/2020/02/13/55/'] [' 08:46, 13 февраля 2020']\n",
      "lenta.ru ['Московский таксист объяснил истерику своей пассажирки'] ['/news/2020/02/13/taxist/'] [' 08:33, 13 февраля 2020']\n",
      "lenta.ru ['Названа средняя цена квартиры в\\xa0Москве'] ['/news/2020/02/13/cian/'] [' 08:25, 13 февраля 2020']\n",
      "lenta.ru ['Число инфицированных на\\xa0лайнере в\\xa0Японии превысило 200'] ['/news/2020/02/13/diamondpr/'] [' 08:21, 13 февраля 2020']\n",
      "lenta.ru ['«Совершенно отвратительные» макароны разозлили пользователей сети'] ['/news/2020/02/13/pasta/'] [' 08:12, 13 февраля 2020']\n",
      "lenta.ru ['Россиянам рассказали о\\xa0погоде в\\xa0начале весны'] ['/news/2020/02/13/pogoda/'] [' 07:31, 13 февраля 2020']\n",
      "lenta.ru ['«Вечно молодую» 43-летнюю женщину признали самой сексуальной матерью на\\xa0планете'] ['/news/2020/02/13/hottest/'] [' 07:00, 13 февраля 2020']\n",
      "lenta.ru ['Стало известно об\\xa0отваливающихся болтах на\\xa0российских истребителях'] ['/news/2020/02/13/bolt/'] [' 06:55, 13 февраля 2020']\n",
      "lenta.ru ['Названа причина резкого увеличения числа заразившихся коронавирусом'] ['/news/2020/02/13/method/'] []\n",
      "lenta.ru ['На российском пивном рынке сменился лидер'] ['/news/2020/02/13/beer_market/'] []\n",
      "lenta.ru ['Шумных россиян захотели штрафовать'] ['/news/2020/02/13/noise/'] []\n",
      "lenta.ru ['Гол Овечкина признали лучшим в\\xa0истории НХЛ'] ['/news/2020/02/12/ove_best/'] []\n",
      "lenta.ru ['Турецкие танки ударили по\\xa0сирийской армии вместе с\\xa0террористами'] ['/news/2020/02/12/strike/'] []\n",
      "lenta.ru ['Появилась реакция на\\xa0требование ФСБ открыть доступ к\\xa0перепискам россиян'] ['/news/2020/02/12/habr/'] []\n",
      "lenta.ru ['Стало известно о\\xa0попытках Путина убедить Лукашенко создать сверхдержаву'] ['/news/2020/02/12/superstate/'] []\n",
      "lenta.ru ['Опубликованы фото застолья убийцы Немцова в\\xa0российской колонии'] ['/news/2020/02/12/banket/'] []\n"
     ]
    }
   ],
   "source": [
    "root = html.fromstring(l_response.text)\n",
    "\n",
    "lenta_news = root.xpath(\"//div[@class='item']\")\n",
    "\n",
    "for l_news in lenta_news:\n",
    "    resource = 'lenta.ru'\n",
    "    name = l_news.xpath(\".//a/text()\")\n",
    "    href = l_news.xpath(\".//a/@href\")\n",
    "    news_date = l_news.xpath('.//time[@class=\"g-time\"]/@datetime')\n",
    "    print(resource, name, href, news_date)"
   ]
  },
  {
   "cell_type": "markdown",
   "metadata": {},
   "source": [
    "### yandex.ru"
   ]
  },
  {
   "cell_type": "code",
   "execution_count": 42,
   "metadata": {},
   "outputs": [
    {
     "name": "stdout",
     "output_type": "stream",
     "text": [
      "Дата новости:  2020.02.13\n",
      "Наименование новости:  В Китае сообщили о резком росте числа умерших от коронавируса\n",
      "Ссылка на новость:  https://yandex.ru/news/story/V_Kitae_soobshhili_o_rezkom_roste_chisla_umershikh_ot_koronavirusa--5ff3fb16e787626bd5c1dd9dc6c6ae6f?lang=ru&from=main_portal&stid=laMhJva4dY1nnlDUZosk&t=1581572850&wan=1&lr=213&msid=1581573779.90022.139644.118348&mlid=1581572850.glob_225.5ff3fb16\n",
      "Источник: yandex ->  ['Коммерсантъ']\n",
      "--------------------\n",
      "Дата новости:  2020.02.13\n",
      "Наименование новости:  В России предложили запретить шуметь днем\n",
      "Ссылка на новость:  https://yandex.ru/news/story/V_Rossii_predlozhili_zapretit_shumet_dnem--b8b5854ed1117cac2d1aa81c353f83ec?lang=ru&from=main_portal&stid=_BKUKPa6-HN1Wv1jsYxm&t=1581572850&wan=1&lr=213&msid=1581573779.90022.139644.118348&mlid=1581572850.glob_225.b8b5854e\n",
      "Источник: yandex ->  ['Известия']\n",
      "--------------------\n",
      "Дата новости:  2020.02.13\n",
      "Наименование новости:  Умер легендарный разведчик Алексей Ботян\n",
      "Ссылка на новость:  https://yandex.ru/news/story/Umer_legendarnyj_razvedchik_Aleksej_Botyan--951badc08775963745d8644972500638?lang=ru&from=main_portal&stid=-ebN-U_J_sRwLwyspf2M&t=1581572850&wan=1&lr=213&msid=1581573779.90022.139644.118348&mlid=1581572850.glob_225.951badc0\n",
      "Источник: yandex ->  ['Вести.Ru']\n",
      "--------------------\n",
      "Дата новости:  2020.02.13\n",
      "Наименование новости:  Американцы открыли в Сирии огонь по гражданским: погиб подросток\n",
      "Ссылка на новость:  https://yandex.ru/news/story/Amerikancy_otkryli_v_Sirii_ogon_po_grazhdanskim_pogib_podrostok--8cf98f403931b0574f01027b9134a040?lang=ru&from=main_portal&stid=eMNrTovdEL04bmrR51IS&t=1581572850&wan=1&lr=213&msid=1581573779.90022.139644.118348&mlid=1581572850.glob_225.8cf98f40\n",
      "Источник: yandex ->  ['Вести.Ru']\n",
      "--------------------\n",
      "Дата новости:  2020.02.13\n",
      "Наименование новости:  В Гидрометцентре рассказали о погоде в марте\n",
      "Ссылка на новость:  https://yandex.ru/news/story/V_Gidrometcentre_rasskazali_o_pogode_v_marte--8ca4079e69178dbb9f9b48f4a21dd77e?lang=ru&from=main_portal&stid=eUvlY_kG5dDyaitsGlKB&t=1581572850&wan=1&lr=213&msid=1581573779.90022.139644.118348&mlid=1581572850.glob_225.8ca4079e\n",
      "Источник: yandex ->  ['Газета.Ru']\n",
      "--------------------\n",
      "Дата новости:  2020.02.13\n",
      "Наименование новости:  Посол РФ назвал последствия отказов россиянам во въезде в Израиль\n",
      "Ссылка на новость:  https://yandex.ru/news/story/Posol_RF_nazval_posledstviya_otkazov_rossiyanam_vo_vezde_v_Izrail--330bd9bd2e90d9c28731246d4d4a89d8?lang=ru&from=main_portal&stid=y8ip-K_8C6qy43q4WESe&t=1581572850&lr=213&msid=1581573779.90022.139644.118348&mlid=1581572850.glob_225.330bd9bd\n",
      "Источник: yandex ->  ['Газета.Ru']\n",
      "--------------------\n",
      "Дата новости:  2020.02.13\n",
      "Наименование новости:  В ДТП под Псковом погибли восемь украинцев\n",
      "Ссылка на новость:  https://yandex.ru/news/story/V_DTP_pod_Pskovom_pogibli_vosem_ukraincev--97c2aebe2510e6d6122f391c1b2a79b3?lang=ru&from=main_portal&stid=btYPZi8oVPpMaleNQBsQ&t=1581572850&lr=213&msid=1581573779.90022.139644.118348&mlid=1581572850.glob_225.97c2aebe\n",
      "Источник: yandex ->  []\n",
      "--------------------\n",
      "Дата новости:  2020.02.13\n",
      "Наименование новости:  Российские ученые потребовали отменить приговор фигурантам дела «Сети»\n",
      "Ссылка на новость:  https://yandex.ru/news/story/Rossijskie_uchenye_potrebovali_otmenit_prigovor_figurantam_dela_Seti--5cefea9ebbdb9e510294e3f24f5f4524?lang=ru&from=main_portal&stid=gsF2b35CQpUB-awoEWax&t=1581572850&lr=213&msid=1581573779.90022.139644.118348&mlid=1581572850.glob_225.5cefea9e\n",
      "Источник: yandex ->  ['РБК']\n",
      "--------------------\n",
      "Дата новости:  2020.02.13\n",
      "Наименование новости:  Экс-глава управления ФСИН покончил с собой в зале суда\n",
      "Ссылка на новость:  https://yandex.ru/news/story/EHks-glava_upravleniya_FSIN_pokonchil_s_soboj_v_zale_suda--61c3d92a8b403c44f27218f085c35a68?lang=ru&from=main_portal&stid=Sn_SZy61psBBsWzWeeCD&t=1581572850&lr=213&msid=1581573779.90022.139644.118348&mlid=1581572850.glob_225.61c3d92a\n",
      "Источник: yandex ->  ['РИА Новости']\n",
      "--------------------\n",
      "Дата новости:  2020.02.13\n",
      "Наименование новости:  ESPN признал шайбу Овечкина лучшей в истории НХЛ\n",
      "Ссылка на новость:  https://yandex.ru/sport/story/ESPN_priznal_shajbu_Ovechkina_luchshej_v_istorii_NKHL--e20c9de3856c6fd854199ce8106aad3e?lang=ru&from=main_portal&stid=tVXizsQb0j-fTnRyRLQo&t=1581572850&lr=213&msid=1581573779.90022.139644.118348&mlid=1581572850.glob_225.e20c9de3\n",
      "Источник: yandex ->  []\n",
      "--------------------\n"
     ]
    }
   ],
   "source": [
    "import datetime\n",
    "\n",
    "root = html.fromstring(y_response.text)\n",
    "\n",
    "yandex_links = root.xpath(\"//a[@class='home-link list__item-content list__item-content_with-icon home-link_black_yes']/@href\")\n",
    "yandex_news = root.xpath(\"//a[@class='home-link list__item-content list__item-content_with-icon home-link_black_yes']/@aria-label\")\n",
    "\n",
    "def take_resourse(n_link):\n",
    "    y_resp = requests.get(n_link)\n",
    "    root1 = html.fromstring(y_resp.text)\n",
    "    res_link = root1.xpath(\"//img[@class='story__head-image']/@alt\")\n",
    "    return res_link\n",
    "    \n",
    "i = 0\n",
    "for link in yandex_links:\n",
    "    print('Дата новости: ', datetime.datetime.today().strftime(\"%Y.%m.%d\"))\n",
    "    print('Наименование новости: ', yandex_news[i])\n",
    "    print('Ссылка на новость: ', yandex_links[i])\n",
    "    i+=1\n",
    "    print('Источник: yandex -> ',take_resourse(link))\n",
    "    print('--------------------')\n"
   ]
  },
  {
   "cell_type": "markdown",
   "metadata": {},
   "source": [
    "### mail.ru"
   ]
  },
  {
   "cell_type": "code",
   "execution_count": 43,
   "metadata": {},
   "outputs": [
    {
     "name": "stdout",
     "output_type": "stream",
     "text": [
      "Дата новости:  2020.02.13\n",
      "Наименование новости:  РЖД уберет ковры из поездов\n",
      "Ссылка на новость:  /economics/40562349/\n",
      "Источник: yandex ->  \n",
      "--------------------\n",
      "Дата новости:  2020.02.13\n",
      "Наименование новости:  Олимпийская чемпионка из России объявила о завершении карьеры\n",
      "Ссылка на новость:  https://sportmail.ru/news/figure-skating/40557726/\n",
      "Источник: yandex ->  ['ТАСС']\n",
      "--------------------\n",
      "Дата новости:  2020.02.13\n",
      "Наименование новости:  Московскую квартиру Елизаветы II выставили на продажу\n",
      "Ссылка на новость:  /economics/40553596/\n",
      "Источник: yandex ->  \n",
      "--------------------\n",
      "Дата новости:  2020.02.13\n",
      "Наименование новости:  Недалеко от Земли обнаружили новорожденную гигантскую планету\n",
      "Ссылка на новость:  /society/40560693/\n",
      "Источник: yandex ->  \n",
      "--------------------\n",
      "Дата новости:  2020.02.13\n",
      "Наименование новости:  Пять самых травматичных сексуальных практик\n",
      "Ссылка на новость:  https://r.mail.ru/n320252368?&rnd=67519594\n",
      "Источник: yandex ->  ['Образ жизни']\n",
      "--------------------\n",
      "Дата новости:  2020.02.13\n",
      "Наименование новости:  Российские врачи убежали от прилетевшего из Китая пациента\n",
      "Ссылка на новость:  https://r.mail.ru/n320252369?&rnd=67519594\n",
      "Источник: yandex ->  ['Образ жизни', 'Lenta.Ru']\n",
      "--------------------\n",
      "Дата новости:  2020.02.13\n",
      "Наименование новости:  Россиянам раскрыли влияние алкоголя на коронавирус\n",
      "Ссылка на новость:  https://r.mail.ru/n320119443?&rnd=67519594\n",
      "Источник: yandex ->  ['Наука и практика', 'Lenta.Ru']\n",
      "--------------------\n",
      "Дата новости:  2020.02.13\n",
      "Наименование новости:  МВД разработало изменения по госконтролю за техосмотром\n",
      "Ссылка на новость:  https://auto.mail.ru/article/76212-mvd_razrabotalo_izmeneniya_po_goskontrolyu_za_tehosmotrom/\n",
      "Источник: yandex ->  ['Новости', 'ТАСС']\n",
      "--------------------\n",
      "Дата новости:  2020.02.13\n",
      "Наименование новости:  Китайский этап Формулы-1 перенесли из-за коронавируса\n",
      "Ссылка на новость:  https://auto.mail.ru/article/76210-kitaiskii_etap_formuly-1_perenesli_iz-za_koronavirusa/\n",
      "Источник: yandex ->  ['Новости']\n",
      "--------------------\n",
      "Дата новости:  2020.02.13\n",
      "Наименование новости:  Kia сертифицировала в России новый Mohave\n",
      "Ссылка на новость:  https://auto.mail.ru/article/76206-kia_sertificirovala_v_rossii_novyi_mohave/\n",
      "Источник: yandex ->  ['Новости']\n",
      "--------------------\n",
      "Дата новости:  2020.02.13\n",
      "Наименование новости:  Добронравов и Кравченко на съемках «Сватов 7»: новые фото\n",
      "Ссылка на новость:  https://kino.mail.ru/news/52741_v_seti_poyavilis_novie_kadri_so_semok_sedmogo_sezona_svatov/\n",
      "Источник: yandex ->  ['Кино Mail.ru']\n",
      "--------------------\n",
      "Дата новости:  2020.02.13\n",
      "Наименование новости:  Названа лучшая мелодрама 21-го века\n",
      "Ссылка на новость:  https://kino.mail.ru/news/52740_nazvana_luchshaya_melodrama_21_go_veka/\n",
      "Источник: yandex ->  ['Кино Mail.ru']\n",
      "--------------------\n",
      "Дата новости:  2020.02.13\n",
      "Наименование новости:  Пугачева, Лобода и Петров с Милославской на премьере «Льда 2»\n",
      "Ссылка на новость:  https://kino.mail.ru/news/52736_pugacheva_mihalkova_i_snigir_na_premere_vtoroi_chasti_lda/\n",
      "Источник: yandex ->  ['Кино Mail.ru']\n",
      "--------------------\n",
      "Дата новости:  2020.02.13\n",
      "Наименование новости:  Парфенов, Ханга и другие телеведущие 90-х: тогда и сейчас\n",
      "Ссылка на новость:  https://r.mail.ru/n320245147?&rnd=467144040\n",
      "Источник: yandex ->  ['Алексей Иванов']\n",
      "--------------------\n",
      "Дата новости:  2020.02.13\n",
      "Наименование новости:  Кончаловский с сыном поддержали Высоцкую на презентации\n",
      "Ссылка на новость:  https://r.mail.ru/n320287403?&rnd=467144040\n",
      "Источник: yandex ->  ['Александра Прокопко']\n",
      "--------------------\n",
      "Дата новости:  2020.02.13\n",
      "Наименование новости:  6 модных правил первой леди Украины 42-летней Елены Зеленской\n",
      "Ссылка на новость:  https://r.mail.ru/n320241263?&rnd=467144040\n",
      "Источник: yandex ->  ['Андрей Корж']\n",
      "--------------------\n"
     ]
    }
   ],
   "source": [
    "root = html.fromstring(m_response.text)\n",
    "\n",
    "mail_news_names = root.xpath(\"//li[@class='list__item']/a/text()\")\n",
    "mail_news_hrefs = root.xpath(\"//li[@class='list__item']/a/@href\")\n",
    "\n",
    "def take_Mresourse(n_link):\n",
    "    try:\n",
    "        y_resp = requests.get(n_link)\n",
    "        root1 = html.fromstring(y_resp.text)\n",
    "        res_link = root1.xpath(\"//a[@class='link color_gray breadcrumbs__link']//span[@class='link__text']/text()\")\n",
    "        return res_link\n",
    "    except:\n",
    "        return ('')\n",
    "\n",
    "i = 0\n",
    "for news in mail_news_hrefs:\n",
    "    print('Дата новости: ', datetime.datetime.today().strftime(\"%Y.%m.%d\"))\n",
    "    print('Наименование новости: ', mail_news_names[i])\n",
    "    print('Ссылка на новость: ', mail_news_hrefs[i])\n",
    "    print('Источник: yandex -> ',take_Mresourse(news))\n",
    "    print('--------------------')\n",
    "    i+=1"
   ]
  },
  {
   "cell_type": "code",
   "execution_count": null,
   "metadata": {},
   "outputs": [],
   "source": []
  }
 ],
 "metadata": {
  "kernelspec": {
   "display_name": "Python 3",
   "language": "python",
   "name": "python3"
  },
  "language_info": {
   "codemirror_mode": {
    "name": "ipython",
    "version": 3
   },
   "file_extension": ".py",
   "mimetype": "text/x-python",
   "name": "python",
   "nbconvert_exporter": "python",
   "pygments_lexer": "ipython3",
   "version": "3.7.4"
  }
 },
 "nbformat": 4,
 "nbformat_minor": 2
}
