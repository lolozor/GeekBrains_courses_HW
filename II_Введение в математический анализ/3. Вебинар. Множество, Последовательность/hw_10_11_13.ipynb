{
 "cells": [
  {
   "cell_type": "markdown",
   "metadata": {},
   "source": [
    "### 10. Представьте в виде суммы трех рациональных дробей с разными знаменателями и числителем равным 1.\n",
    "  \n",
    "### 11*. Тоже задание, только в виде суммы шести дробей."
   ]
  },
  {
   "cell_type": "code",
   "execution_count": 5,
   "metadata": {},
   "outputs": [
    {
     "name": "stdout",
     "output_type": "stream",
     "text": [
      "Введите количество дробей: 6\n",
      "Знаменатели дробей:  [2, 4, 8, 16, 17, 272]\n"
     ]
    }
   ],
   "source": [
    "n = int(input('Введите количество дробей: '))\n",
    "\n",
    "def NotisInt(n):\n",
    "    if int(n) == float(n):\n",
    "        return False\n",
    "    else:\n",
    "        return True\n",
    "a = []\n",
    "\n",
    "for i in range(n-2):\n",
    "    i+=1\n",
    "    a.append(2**i)\n",
    "    \n",
    "a_n_1 = 2**len(a)\n",
    "a_n = 4.4\n",
    "\n",
    "while NotisInt(a_n):\n",
    "    a_n_1 += 1\n",
    "    a_n = (a_n_1 * 2**len(a))/(a_n_1 - 2**len(a))\n",
    "#     print(a6)\n",
    "\n",
    "a.append(a_n_1)\n",
    "a.append(int(a_n))\n",
    "# a.append(a_n)\n",
    "\n",
    "print('Знаменатели дробей: ', a)"
   ]
  },
  {
   "cell_type": "markdown",
   "metadata": {},
   "source": [
    "### 13* Какой член последовательности можно взять в качестве предела с точностью 𝜀=10−7"
   ]
  },
  {
   "cell_type": "code",
   "execution_count": 89,
   "metadata": {},
   "outputs": [
    {
     "name": "stdout",
     "output_type": "stream",
     "text": [
      "0.5928377620958291\n",
      "23\n"
     ]
    }
   ],
   "source": [
    "import math\n",
    "\n",
    "def f(n):\n",
    "    z = 0\n",
    "    for i in range(n):\n",
    "        z = z + math.sin(i)/(2**i)\n",
    "    return z\n",
    "\n",
    "acc = 0.00000001\n",
    "i = 2\n",
    "\n",
    "while math.fabs(f(i) - f(i-1)) > acc:\n",
    "    i = i + 1\n",
    "    \n",
    "    \n",
    "print(f(i))\n",
    "print(i)"
   ]
  }
 ],
 "metadata": {
  "kernelspec": {
   "display_name": "Python 3",
   "language": "python",
   "name": "python3"
  },
  "language_info": {
   "codemirror_mode": {
    "name": "ipython",
    "version": 3
   },
   "file_extension": ".py",
   "mimetype": "text/x-python",
   "name": "python",
   "nbconvert_exporter": "python",
   "pygments_lexer": "ipython3",
   "version": "3.7.4"
  }
 },
 "nbformat": 4,
 "nbformat_minor": 2
}
