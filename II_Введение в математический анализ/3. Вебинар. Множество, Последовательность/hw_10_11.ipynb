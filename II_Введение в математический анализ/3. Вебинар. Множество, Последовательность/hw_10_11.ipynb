{
 "cells": [
  {
   "cell_type": "markdown",
   "metadata": {},
   "source": [
    "### 10. Представьте в виде суммы трех рациональных дробей с разными знаменателями и числителем равным 1.\n",
    "  \n",
    "### 11*. Тоже задание, только в виде суммы шести дробей."
   ]
  },
  {
   "cell_type": "code",
   "execution_count": 5,
   "metadata": {},
   "outputs": [
    {
     "name": "stdout",
     "output_type": "stream",
     "text": [
      "Введите количество дробей: 6\n",
      "Знаменатели дробей:  [2, 4, 8, 16, 17, 272]\n"
     ]
    }
   ],
   "source": [
    "n = int(input('Введите количество дробей: '))\n",
    "\n",
    "def NotisInt(n):\n",
    "    if int(n) == float(n):\n",
    "        return False\n",
    "    else:\n",
    "        return True\n",
    "a = []\n",
    "\n",
    "for i in range(n-2):\n",
    "    i+=1\n",
    "    a.append(2**i)\n",
    "    \n",
    "a_n_1 = 2**len(a)\n",
    "a_n = 4.4\n",
    "\n",
    "while NotisInt(a_n):\n",
    "    a_n_1 += 1\n",
    "    a_n = (a_n_1 * 2**len(a))/(a_n_1 - 2**len(a))\n",
    "#     print(a6)\n",
    "\n",
    "a.append(a_n_1)\n",
    "a.append(int(a_n))\n",
    "# a.append(a_n)\n",
    "\n",
    "print('Знаменатели дробей: ', a)"
   ]
  },
  {
   "cell_type": "code",
   "execution_count": 6,
   "metadata": {},
   "outputs": [
    {
     "data": {
      "text/plain": [
       "0.9989989989989997"
      ]
     },
     "execution_count": 6,
     "metadata": {},
     "output_type": "execute_result"
    }
   ],
   "source": [
    "def f(n):\n",
    "    return 1/((n-1)*n)\n",
    "\n",
    "i = 2\n",
    "z = 0\n",
    "\n",
    "while i < 1000:    \n",
    "    z = z + f(i)\n",
    "    i += 1\n",
    "    \n",
    "z"
   ]
  }
 ],
 "metadata": {
  "kernelspec": {
   "display_name": "Python 3",
   "language": "python",
   "name": "python3"
  },
  "language_info": {
   "codemirror_mode": {
    "name": "ipython",
    "version": 3
   },
   "file_extension": ".py",
   "mimetype": "text/x-python",
   "name": "python",
   "nbconvert_exporter": "python",
   "pygments_lexer": "ipython3",
   "version": "3.7.4"
  }
 },
 "nbformat": 4,
 "nbformat_minor": 2
}
