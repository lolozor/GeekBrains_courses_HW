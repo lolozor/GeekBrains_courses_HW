{
 "cells": [
  {
   "cell_type": "markdown",
   "metadata": {},
   "source": [
    "### 3.Численно найти хотябы один действительных корень системы нелинейных уравнений."
   ]
  },
  {
   "cell_type": "code",
   "execution_count": 2,
   "metadata": {},
   "outputs": [
    {
     "name": "stdout",
     "output_type": "stream",
     "text": [
      "0.7189175179442489 1.9949658655001932 1\n"
     ]
    }
   ],
   "source": [
    "from scipy.optimize import fsolve\n",
    "\n",
    "def equations(p):\n",
    "    x, y = p\n",
    "    return(x**2 - y**2 + 3*x*y**3 - 2*x**2*y**2 +2*x -3*y - 5, 3*y*3 - 2*x*2 + 2*x*3*y - 5*x*2*y*2 + 5)\n",
    "\n",
    "(x,y), info, ier, mesg =  fsolve(equations, (10, 10), full_output=True)\n",
    "print (x, y, ier)"
   ]
  },
  {
   "cell_type": "markdown",
   "metadata": {},
   "source": [
    "### 4*.Предложить алгоритм, который найдет все 5 действительных корней."
   ]
  },
  {
   "cell_type": "code",
   "execution_count": 13,
   "metadata": {},
   "outputs": [
    {
     "name": "stdout",
     "output_type": "stream",
     "text": [
      "(0.71891751, 1.99496586) (0.71891751, 1.99496585) (-3.78730113, -0.32487076) (-3.78730114, -0.32487076) (1.41577104, -0.06127869)\n"
     ]
    }
   ],
   "source": [
    "import numpy as np\n",
    "import math\n",
    "\n",
    "res = set()\n",
    "length = 100\n",
    "step = 2\n",
    "\n",
    "for x in np.arange(-length, length, step):\n",
    "    for y in np.arange(-length, length, step):\n",
    "        (x_, y_), info, ier, mesg =  fsolve(equations, (x, y), full_output=True)\n",
    "        if (ier == 1): res.add((int(x_*10**8)/10**8, int(y_*10**8)/10**8))\n",
    "\n",
    "print (*res)"
   ]
  },
  {
   "cell_type": "code",
   "execution_count": null,
   "metadata": {},
   "outputs": [],
   "source": []
  }
 ],
 "metadata": {
  "kernelspec": {
   "display_name": "Python 3",
   "language": "python",
   "name": "python3"
  },
  "language_info": {
   "codemirror_mode": {
    "name": "ipython",
    "version": 3
   },
   "file_extension": ".py",
   "mimetype": "text/x-python",
   "name": "python",
   "nbconvert_exporter": "python",
   "pygments_lexer": "ipython3",
   "version": "3.7.4"
  }
 },
 "nbformat": 4,
 "nbformat_minor": 2
}
